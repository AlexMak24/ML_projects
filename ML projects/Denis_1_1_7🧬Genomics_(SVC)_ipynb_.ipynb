{
  "nbformat": 4,
  "nbformat_minor": 0,
  "metadata": {
    "colab": {
      "provenance": []
    },
    "kernelspec": {
      "name": "python3",
      "display_name": "Python 3"
    },
    "language_info": {
      "name": "python"
    },
    "accelerator": "GPU"
  },
  "cells": [
    {
      "cell_type": "markdown",
      "metadata": {
        "id": "JbiR4YHvyX1f"
      },
      "source": [
        "<small><font color=gray>Notebook author: <a href=\"https://www.linkedin.com/in/olegmelnikov/\" target=\"_blank\">Oleg Melnikov</a> ©2021 onwards</font></small><hr style=\"margin:0;background-color:silver\">\n",
        "\n",
        "**[<font size=6>🧬Genomics</font>](https://www.kaggle.com/competitions/4dec23hse-genomics/rules)**. [**Instructions**](https://colab.research.google.com/drive/1owkYjuRGkx050LQnM3b3yTzd0Dr2XbeV) for running Colabs."
      ]
    },
    {
      "cell_type": "markdown",
      "source": [
        "<small>**(Optional) CONSENT.** <mark>[ X ]</mark> We consent to sharing our Colab (after the assignment ends) with other students/instructors for educational purposes. We understand that sharing is optional and this decision will not affect our grade in any way. <font color=gray><i>(If ok with sharing your Colab for educational purposes, leave \"X\" in the check box.)</i></font></small>"
      ],
      "metadata": {
        "id": "mwuPxmU5NFLz"
      }
    },
    {
      "cell_type": "code",
      "source": [
        "from google.colab import drive; drive.mount('/content/drive')   # OK to enable, if your kaggle.json is stored in Google Drive"
      ],
      "metadata": {
        "id": "4ZK9-jiByA4Z",
        "outputId": "85f27f33-236d-4869-8b3a-fd60da0746e3",
        "colab": {
          "base_uri": "https://localhost:8080/"
        }
      },
      "execution_count": null,
      "outputs": [
        {
          "output_type": "stream",
          "name": "stdout",
          "text": [
            "Drive already mounted at /content/drive; to attempt to forcibly remount, call drive.mount(\"/content/drive\", force_remount=True).\n"
          ]
        }
      ]
    },
    {
      "cell_type": "code",
      "source": [
        "!pip -q install --upgrade --force-reinstall --no-deps kaggle > log  # upgrade kaggle package (to avoid a warning)\n",
        "!mkdir -p ~/.kaggle                               # .kaggle folder must contain kaggle.json for kaggle executable to properly authenticate you to Kaggle.com\n",
        "!cp /content/drive/MyDrive/kaggle.json ~/.kaggle/kaggle.json >log  # First, download kaggle.json from kaggle.com (in Account page) and place it in the root of mounted Google Drive\n",
        "!cp kaggle.json ~/.kaggle/kaggle.json > log       # Alternative location of kaggle.json (without a connection to Google Drive)\n",
        "!chmod 600 ~/.kaggle/kaggle.json                  # give only the owner full read/write access to kaggle.json\n",
        "!kaggle config set -n competition -v 4dec23hse-genomics # set the competition context for the next few kaggle API calls. !kaggle config view - shows current settings\n",
        "!kaggle competitions download >> log              # download competition dataset as a zip file\n",
        "!unzip -o *.zip >> log                            # Kaggle dataset is copied as a single file and needs to be unzipped.\n",
        "# !kaggle competitions leaderboard --show           # print public leaderboard"
      ],
      "metadata": {
        "colab": {
          "base_uri": "https://localhost:8080/"
        },
        "id": "dt1AeSYEx5kV",
        "outputId": "9908abbc-09e5-4715-b97c-01788c1f4574"
      },
      "execution_count": null,
      "outputs": [
        {
          "output_type": "stream",
          "name": "stdout",
          "text": [
            "cp: cannot stat 'kaggle.json': No such file or directory\n",
            "- competition is now set to: 4dec23hse-genomics\n"
          ]
        }
      ]
    },
    {
      "cell_type": "code",
      "source": [
        "!nvidia-smi --query-gpu=gpu_name,memory.total,memory.free,memory.used --format=csv # GPU specs"
      ],
      "metadata": {
        "id": "4Im40LyqyJuA",
        "outputId": "67149881-19b2-46d6-bf79-8cc60fb83e3a",
        "colab": {
          "base_uri": "https://localhost:8080/"
        }
      },
      "execution_count": null,
      "outputs": [
        {
          "output_type": "stream",
          "name": "stdout",
          "text": [
            "name, memory.total [MiB], memory.free [MiB], memory.used [MiB]\n",
            "Tesla T4, 15360 MiB, 7015 MiB, 8087 MiB\n"
          ]
        }
      ]
    },
    {
      "cell_type": "code",
      "source": [
        "%%time\n",
        "%%capture\n",
        "%reset -f\n",
        "!pip -q install -U sentence-transformers > log\n",
        "from IPython.core.interactiveshell import InteractiveShell as IS; IS.ast_node_interactivity = \"all\"\n",
        "import numpy as np, pandas as pd, time, matplotlib.pyplot as plt, os, plotly\n",
        "from sklearn.model_selection import train_test_split\n",
        "from sentence_transformers import SentenceTransformer as SBERT\n",
        "from sklearn.svm import SVC, LinearSVC, NuSVC\n",
        "ToCSV = lambda df, fname: df.round(2).to_csv(f'{fname}.csv', index_label='id') # rounds values to 2 decimals\n",
        "\n",
        "class Timer():\n",
        "  def __init__(self, lim:'RunTimeLimit'=60*5): self.t0, self.lim, _ = time.time(), lim, print(f'⏳ started. You have {lim} sec. Good luck!')\n",
        "  def ShowTime(self):\n",
        "    msg = f'Runtime is {time.time()-self.t0:.0f} sec'\n",
        "    print(f'\\033[91m\\033[1m' + msg + f' > {self.lim} sec limit!!!\\033[0m' if (time.time()-self.t0-1) > self.lim else msg)\n",
        "\n",
        "np.set_printoptions(linewidth=10000, precision=4, edgeitems=20, suppress=True)\n",
        "pd.set_option('display.max_rows', 100, 'display.max_columns', 100, 'display.max_colwidth', 100, 'display.precision', 2, 'display.max_rows', 4)"
      ],
      "metadata": {
        "colab": {
          "base_uri": "https://localhost:8080/"
        },
        "id": "yGUK_EcvtN8y",
        "outputId": "46d55d25-b907-44db-e15a-3340921af247"
      },
      "execution_count": null,
      "outputs": [
        {
          "output_type": "stream",
          "name": "stdout",
          "text": [
            "CPU times: user 1.19 s, sys: 71.2 ms, total: 1.26 s\n",
            "Wall time: 45.2 s\n"
          ]
        }
      ]
    },
    {
      "cell_type": "code",
      "metadata": {
        "id": "I1TC9f43ItUY",
        "colab": {
          "base_uri": "https://localhost:8080/",
          "height": 287
        },
        "outputId": "1b9d4695-89b6-48a5-c91d-8222338940d9"
      },
      "source": [
        "vX = pd.read_csv('testX/testX.csv').set_index('id')\n",
        "tYX = pd.read_csv('trainYX/trainYX.csv').set_index('id')\n",
        "vX"
      ],
      "execution_count": null,
      "outputs": [
        {
          "output_type": "execute_result",
          "data": {
            "text/plain": [
              "                                                                                                        DNA\n",
              "id                                                                                                         \n",
              "100000  TTGATTAATAAGATTCCTTGACACCCTTTGTAAAGTTTCTATTTCGTGTGAAATATCTATCTCTTCAAATCCTTTTAATTTATCTAGGTATTTGCT...\n",
              "100001  ATTAGTAACGGAGGATTTACTAGATGTTTGGATTTATATTCTAATTTTATTCAGGTGGAAGGGATTGTTTTATGATTCAATAGTATACAGAGAATA...\n",
              "...                                                                                                     ...\n",
              "119998  CGTCGGCATGCTCGGGCAGTGCGGCGGGCCAGCAGCGTGCCAGTTGTCGCGGGGCGGCCGGGCATCGCGGCGCCGGGCGGCAGCACTCCCGCGAAG...\n",
              "119999  GCGAGGGCACGAAGGCACGACGGCAACGGCGGCGAGGAGCGCTGTGGCAACCGTCTCCGCGTTTGCGTGCGTACAGCCGAGAGCTGGTTCGCGCAG...\n",
              "\n",
              "[20000 rows x 1 columns]"
            ],
            "text/html": [
              "\n",
              "  <div id=\"df-af2a2abf-726b-4e98-9eca-1b761ccf5d18\" class=\"colab-df-container\">\n",
              "    <div>\n",
              "<style scoped>\n",
              "    .dataframe tbody tr th:only-of-type {\n",
              "        vertical-align: middle;\n",
              "    }\n",
              "\n",
              "    .dataframe tbody tr th {\n",
              "        vertical-align: top;\n",
              "    }\n",
              "\n",
              "    .dataframe thead th {\n",
              "        text-align: right;\n",
              "    }\n",
              "</style>\n",
              "<table border=\"1\" class=\"dataframe\">\n",
              "  <thead>\n",
              "    <tr style=\"text-align: right;\">\n",
              "      <th></th>\n",
              "      <th>DNA</th>\n",
              "    </tr>\n",
              "    <tr>\n",
              "      <th>id</th>\n",
              "      <th></th>\n",
              "    </tr>\n",
              "  </thead>\n",
              "  <tbody>\n",
              "    <tr>\n",
              "      <th>100000</th>\n",
              "      <td>TTGATTAATAAGATTCCTTGACACCCTTTGTAAAGTTTCTATTTCGTGTGAAATATCTATCTCTTCAAATCCTTTTAATTTATCTAGGTATTTGCT...</td>\n",
              "    </tr>\n",
              "    <tr>\n",
              "      <th>100001</th>\n",
              "      <td>ATTAGTAACGGAGGATTTACTAGATGTTTGGATTTATATTCTAATTTTATTCAGGTGGAAGGGATTGTTTTATGATTCAATAGTATACAGAGAATA...</td>\n",
              "    </tr>\n",
              "    <tr>\n",
              "      <th>...</th>\n",
              "      <td>...</td>\n",
              "    </tr>\n",
              "    <tr>\n",
              "      <th>119998</th>\n",
              "      <td>CGTCGGCATGCTCGGGCAGTGCGGCGGGCCAGCAGCGTGCCAGTTGTCGCGGGGCGGCCGGGCATCGCGGCGCCGGGCGGCAGCACTCCCGCGAAG...</td>\n",
              "    </tr>\n",
              "    <tr>\n",
              "      <th>119999</th>\n",
              "      <td>GCGAGGGCACGAAGGCACGACGGCAACGGCGGCGAGGAGCGCTGTGGCAACCGTCTCCGCGTTTGCGTGCGTACAGCCGAGAGCTGGTTCGCGCAG...</td>\n",
              "    </tr>\n",
              "  </tbody>\n",
              "</table>\n",
              "<p>20000 rows × 1 columns</p>\n",
              "</div>\n",
              "    <div class=\"colab-df-buttons\">\n",
              "\n",
              "  <div class=\"colab-df-container\">\n",
              "    <button class=\"colab-df-convert\" onclick=\"convertToInteractive('df-af2a2abf-726b-4e98-9eca-1b761ccf5d18')\"\n",
              "            title=\"Convert this dataframe to an interactive table.\"\n",
              "            style=\"display:none;\">\n",
              "\n",
              "  <svg xmlns=\"http://www.w3.org/2000/svg\" height=\"24px\" viewBox=\"0 -960 960 960\">\n",
              "    <path d=\"M120-120v-720h720v720H120Zm60-500h600v-160H180v160Zm220 220h160v-160H400v160Zm0 220h160v-160H400v160ZM180-400h160v-160H180v160Zm440 0h160v-160H620v160ZM180-180h160v-160H180v160Zm440 0h160v-160H620v160Z\"/>\n",
              "  </svg>\n",
              "    </button>\n",
              "\n",
              "  <style>\n",
              "    .colab-df-container {\n",
              "      display:flex;\n",
              "      gap: 12px;\n",
              "    }\n",
              "\n",
              "    .colab-df-convert {\n",
              "      background-color: #E8F0FE;\n",
              "      border: none;\n",
              "      border-radius: 50%;\n",
              "      cursor: pointer;\n",
              "      display: none;\n",
              "      fill: #1967D2;\n",
              "      height: 32px;\n",
              "      padding: 0 0 0 0;\n",
              "      width: 32px;\n",
              "    }\n",
              "\n",
              "    .colab-df-convert:hover {\n",
              "      background-color: #E2EBFA;\n",
              "      box-shadow: 0px 1px 2px rgba(60, 64, 67, 0.3), 0px 1px 3px 1px rgba(60, 64, 67, 0.15);\n",
              "      fill: #174EA6;\n",
              "    }\n",
              "\n",
              "    .colab-df-buttons div {\n",
              "      margin-bottom: 4px;\n",
              "    }\n",
              "\n",
              "    [theme=dark] .colab-df-convert {\n",
              "      background-color: #3B4455;\n",
              "      fill: #D2E3FC;\n",
              "    }\n",
              "\n",
              "    [theme=dark] .colab-df-convert:hover {\n",
              "      background-color: #434B5C;\n",
              "      box-shadow: 0px 1px 3px 1px rgba(0, 0, 0, 0.15);\n",
              "      filter: drop-shadow(0px 1px 2px rgba(0, 0, 0, 0.3));\n",
              "      fill: #FFFFFF;\n",
              "    }\n",
              "  </style>\n",
              "\n",
              "    <script>\n",
              "      const buttonEl =\n",
              "        document.querySelector('#df-af2a2abf-726b-4e98-9eca-1b761ccf5d18 button.colab-df-convert');\n",
              "      buttonEl.style.display =\n",
              "        google.colab.kernel.accessAllowed ? 'block' : 'none';\n",
              "\n",
              "      async function convertToInteractive(key) {\n",
              "        const element = document.querySelector('#df-af2a2abf-726b-4e98-9eca-1b761ccf5d18');\n",
              "        const dataTable =\n",
              "          await google.colab.kernel.invokeFunction('convertToInteractive',\n",
              "                                                    [key], {});\n",
              "        if (!dataTable) return;\n",
              "\n",
              "        const docLinkHtml = 'Like what you see? Visit the ' +\n",
              "          '<a target=\"_blank\" href=https://colab.research.google.com/notebooks/data_table.ipynb>data table notebook</a>'\n",
              "          + ' to learn more about interactive tables.';\n",
              "        element.innerHTML = '';\n",
              "        dataTable['output_type'] = 'display_data';\n",
              "        await google.colab.output.renderOutput(dataTable, element);\n",
              "        const docLink = document.createElement('div');\n",
              "        docLink.innerHTML = docLinkHtml;\n",
              "        element.appendChild(docLink);\n",
              "      }\n",
              "    </script>\n",
              "  </div>\n",
              "\n",
              "\n",
              "<div id=\"df-2c559372-9c04-446b-b0b4-af37c48a29fd\">\n",
              "  <button class=\"colab-df-quickchart\" onclick=\"quickchart('df-2c559372-9c04-446b-b0b4-af37c48a29fd')\"\n",
              "            title=\"Suggest charts\"\n",
              "            style=\"display:none;\">\n",
              "\n",
              "<svg xmlns=\"http://www.w3.org/2000/svg\" height=\"24px\"viewBox=\"0 0 24 24\"\n",
              "     width=\"24px\">\n",
              "    <g>\n",
              "        <path d=\"M19 3H5c-1.1 0-2 .9-2 2v14c0 1.1.9 2 2 2h14c1.1 0 2-.9 2-2V5c0-1.1-.9-2-2-2zM9 17H7v-7h2v7zm4 0h-2V7h2v10zm4 0h-2v-4h2v4z\"/>\n",
              "    </g>\n",
              "</svg>\n",
              "  </button>\n",
              "\n",
              "<style>\n",
              "  .colab-df-quickchart {\n",
              "      --bg-color: #E8F0FE;\n",
              "      --fill-color: #1967D2;\n",
              "      --hover-bg-color: #E2EBFA;\n",
              "      --hover-fill-color: #174EA6;\n",
              "      --disabled-fill-color: #AAA;\n",
              "      --disabled-bg-color: #DDD;\n",
              "  }\n",
              "\n",
              "  [theme=dark] .colab-df-quickchart {\n",
              "      --bg-color: #3B4455;\n",
              "      --fill-color: #D2E3FC;\n",
              "      --hover-bg-color: #434B5C;\n",
              "      --hover-fill-color: #FFFFFF;\n",
              "      --disabled-bg-color: #3B4455;\n",
              "      --disabled-fill-color: #666;\n",
              "  }\n",
              "\n",
              "  .colab-df-quickchart {\n",
              "    background-color: var(--bg-color);\n",
              "    border: none;\n",
              "    border-radius: 50%;\n",
              "    cursor: pointer;\n",
              "    display: none;\n",
              "    fill: var(--fill-color);\n",
              "    height: 32px;\n",
              "    padding: 0;\n",
              "    width: 32px;\n",
              "  }\n",
              "\n",
              "  .colab-df-quickchart:hover {\n",
              "    background-color: var(--hover-bg-color);\n",
              "    box-shadow: 0 1px 2px rgba(60, 64, 67, 0.3), 0 1px 3px 1px rgba(60, 64, 67, 0.15);\n",
              "    fill: var(--button-hover-fill-color);\n",
              "  }\n",
              "\n",
              "  .colab-df-quickchart-complete:disabled,\n",
              "  .colab-df-quickchart-complete:disabled:hover {\n",
              "    background-color: var(--disabled-bg-color);\n",
              "    fill: var(--disabled-fill-color);\n",
              "    box-shadow: none;\n",
              "  }\n",
              "\n",
              "  .colab-df-spinner {\n",
              "    border: 2px solid var(--fill-color);\n",
              "    border-color: transparent;\n",
              "    border-bottom-color: var(--fill-color);\n",
              "    animation:\n",
              "      spin 1s steps(1) infinite;\n",
              "  }\n",
              "\n",
              "  @keyframes spin {\n",
              "    0% {\n",
              "      border-color: transparent;\n",
              "      border-bottom-color: var(--fill-color);\n",
              "      border-left-color: var(--fill-color);\n",
              "    }\n",
              "    20% {\n",
              "      border-color: transparent;\n",
              "      border-left-color: var(--fill-color);\n",
              "      border-top-color: var(--fill-color);\n",
              "    }\n",
              "    30% {\n",
              "      border-color: transparent;\n",
              "      border-left-color: var(--fill-color);\n",
              "      border-top-color: var(--fill-color);\n",
              "      border-right-color: var(--fill-color);\n",
              "    }\n",
              "    40% {\n",
              "      border-color: transparent;\n",
              "      border-right-color: var(--fill-color);\n",
              "      border-top-color: var(--fill-color);\n",
              "    }\n",
              "    60% {\n",
              "      border-color: transparent;\n",
              "      border-right-color: var(--fill-color);\n",
              "    }\n",
              "    80% {\n",
              "      border-color: transparent;\n",
              "      border-right-color: var(--fill-color);\n",
              "      border-bottom-color: var(--fill-color);\n",
              "    }\n",
              "    90% {\n",
              "      border-color: transparent;\n",
              "      border-bottom-color: var(--fill-color);\n",
              "    }\n",
              "  }\n",
              "</style>\n",
              "\n",
              "  <script>\n",
              "    async function quickchart(key) {\n",
              "      const quickchartButtonEl =\n",
              "        document.querySelector('#' + key + ' button');\n",
              "      quickchartButtonEl.disabled = true;  // To prevent multiple clicks.\n",
              "      quickchartButtonEl.classList.add('colab-df-spinner');\n",
              "      try {\n",
              "        const charts = await google.colab.kernel.invokeFunction(\n",
              "            'suggestCharts', [key], {});\n",
              "      } catch (error) {\n",
              "        console.error('Error during call to suggestCharts:', error);\n",
              "      }\n",
              "      quickchartButtonEl.classList.remove('colab-df-spinner');\n",
              "      quickchartButtonEl.classList.add('colab-df-quickchart-complete');\n",
              "    }\n",
              "    (() => {\n",
              "      let quickchartButtonEl =\n",
              "        document.querySelector('#df-2c559372-9c04-446b-b0b4-af37c48a29fd button');\n",
              "      quickchartButtonEl.style.display =\n",
              "        google.colab.kernel.accessAllowed ? 'block' : 'none';\n",
              "    })();\n",
              "  </script>\n",
              "</div>\n",
              "    </div>\n",
              "  </div>\n"
            ]
          },
          "metadata": {},
          "execution_count": 101
        }
      ]
    },
    {
      "cell_type": "code",
      "source": [
        "%%time\n",
        "%%capture\n",
        "!pip install laserembeddings"
      ],
      "metadata": {
        "colab": {
          "base_uri": "https://localhost:8080/"
        },
        "id": "u2_tZ2IxVbCB",
        "outputId": "4e668876-ece6-4ffd-b6f8-753b2c0f6c0b"
      },
      "execution_count": null,
      "outputs": [
        {
          "output_type": "stream",
          "name": "stdout",
          "text": [
            "CPU times: user 388 ms, sys: 66.1 ms, total: 454 ms\n",
            "Wall time: 58.6 s\n"
          ]
        }
      ]
    },
    {
      "cell_type": "code",
      "source": [
        "!python -m laserembeddings download-models"
      ],
      "metadata": {
        "colab": {
          "base_uri": "https://localhost:8080/"
        },
        "id": "nwt2I7uwYP5y",
        "outputId": "3310037d-c6b2-412c-8bf4-f2ae94851190"
      },
      "execution_count": null,
      "outputs": [
        {
          "output_type": "stream",
          "name": "stdout",
          "text": [
            "Downloading models into /usr/local/lib/python3.10/dist-packages/laserembeddings/data\n",
            "\n",
            "✅   Downloaded https://dl.fbaipublicfiles.com/laser/models/93langs.fcodes    \n",
            "✅   Downloaded https://dl.fbaipublicfiles.com/laser/models/93langs.fvocab    \n",
            "✅   Downloaded https://dl.fbaipublicfiles.com/laser/models/bilstm.93langs.2018-12-26.pt    \n",
            "\n",
            "✨ You're all set!\n"
          ]
        }
      ]
    },
    {
      "cell_type": "code",
      "metadata": {
        "id": "1JVbzlnuIud4",
        "colab": {
          "base_uri": "https://localhost:8080/"
        },
        "outputId": "873b116f-805a-4551-d704-335006f00b82"
      },
      "source": [
        "tmr = Timer() # runtime limit (in seconds). Add all of your code after the timer"
      ],
      "execution_count": null,
      "outputs": [
        {
          "output_type": "stream",
          "name": "stdout",
          "text": [
            "⏳ started. You have 300 sec. Good luck!\n"
          ]
        }
      ]
    },
    {
      "cell_type": "markdown",
      "metadata": {
        "id": "NLxefmk0Iz0U"
      },
      "source": [
        "❗Do not modify the setup above."
      ]
    },
    {
      "cell_type": "markdown",
      "source": [
        "<hr color=red>\n",
        "\n",
        "<font size=5>⏳</font> <strong><font color=orange size=5>Your Code, Documentation, Ideas and Timer - All Start Here...</font></strong>\n",
        "\n",
        "Students: Keep all your definitions, code, documentation **between** ⏳ symbols."
      ],
      "metadata": {
        "id": "3NcTKbw3KhAn"
      }
    },
    {
      "cell_type": "markdown",
      "metadata": {
        "id": "OpyLNt3god0c"
      },
      "source": [
        "## **Task 1. Preprocessing Pipeline**\n",
        "\n",
        "Explain elements of your preprocessing pipeline i.e. feature engineering, subsampling, clustering, dimensionality reduction, etc.\n",
        "1. Why did you choose these elements? (Something in EDA, prior experience,...? Btw, EDA is not required)\n",
        "1. How do you evaluate the effectiveness of these elements?\n",
        "1. What else have you tried that worked or didn't?"
      ]
    },
    {
      "cell_type": "markdown",
      "source": [
        "I did not do any preprocessing except downloading data for encoders which took some time.\n"
      ],
      "metadata": {
        "id": "xgisucVsyqX1"
      }
    },
    {
      "cell_type": "markdown",
      "metadata": {
        "id": "30xYIFXAnaPE"
      },
      "source": [
        "**Student's answer:**"
      ]
    },
    {
      "cell_type": "markdown",
      "metadata": {
        "id": "KGJRwzqHob4o"
      },
      "source": [
        "## **Task 2. Modeling Approach**\n",
        "Explain your modeling approach, i.e. ideas you tried and why you thought they would be helpful.\n",
        "\n",
        "1. How did these decisions guide you in modeling?\n",
        "1. How do you evaluate the effectiveness of these elements?\n",
        "1. What else have you tried that worked or didn't?"
      ]
    },
    {
      "cell_type": "markdown",
      "metadata": {
        "id": "zi6ZjgtWnb58"
      },
      "source": [
        "**Student's answer:**"
      ]
    },
    {
      "cell_type": "markdown",
      "source": [
        "I tried many models but laser was the most successful. USE encoder took too much time and was not very successful for me as well as SBERT and others. I decided to use LinearSVC because it was very fast on this sample data and due to a long execution of Laser it helped to get everything in time limits."
      ],
      "metadata": {
        "id": "JuiCo3Wly0ee"
      }
    },
    {
      "cell_type": "markdown",
      "metadata": {
        "id": "r-w7CLJeJAZC"
      },
      "source": [
        "[SBERT](https://www.sbert.net) generates 384-dimensional text embedding vectors for each text entry. See [more models](https://www.sbert.net/docs/pretrained_models.html).\n",
        "* Only reputable publicly available embedding models are allowed (SBERT, USE, MUSE, LASER, ...). We want to prevent participants' training embeddings on test data."
      ]
    },
    {
      "cell_type": "code",
      "source": [
        "from laserembeddings import Laser"
      ],
      "metadata": {
        "id": "pVxnfjYoVRgg"
      },
      "execution_count": null,
      "outputs": []
    },
    {
      "cell_type": "code",
      "metadata": {
        "id": "QfkARvtJJCum"
      },
      "source": [
        "%%capture\n",
        "# sbert = SBERT('paraphrase-MiniLM-L6-v2')  # 4 seconds; loads SBERT embeddings model"
      ],
      "execution_count": null,
      "outputs": []
    },
    {
      "cell_type": "code",
      "metadata": {
        "id": "_586zfPPJD4C",
        "colab": {
          "base_uri": "https://localhost:8080/",
          "height": 218
        },
        "outputId": "8003466c-f899-494c-ee58-e9e863e02f83"
      },
      "source": [
        "tYX = tYX.head(90000)\n",
        "# %time tEmb, vEmb = sbert.encode([s[:50] for s in tYX.DNA]), sbert.encode([s[:50] for s in vX.DNA])  # embed all sequences to same-size vectors\n",
        "from laserembeddings import Laser\n",
        "laser = Laser()\n",
        "\n",
        "# Assuming tYX.DNA and vX.DNA contain the sequences as strings\n",
        "tEmb = laser.embed_sentences([s[:120] for s in tYX.DNA], lang='en')  # embed all sequences to same-size vectors\n",
        "vEmb = laser.embed_sentences([s[:120] for s in vX.DNA], lang='en')\n",
        "\n",
        "print(f'Train embedding matrix size:', tEmb.shape)\n",
        "pd.DataFrame(vEmb[:3,:30], index=[x[:20]+'...' for x in vX.DNA[:3]]).style.background_gradient(cmap='coolwarm', axis=1).set_precision(2)  # show movie description and a few of its embedding features"
      ],
      "execution_count": null,
      "outputs": [
        {
          "output_type": "stream",
          "name": "stdout",
          "text": [
            "Train embedding matrix size: (90000, 1024)\n"
          ]
        },
        {
          "output_type": "stream",
          "name": "stderr",
          "text": [
            "<ipython-input-107-fc8b6ad04f12>:11: FutureWarning: this method is deprecated in favour of `Styler.format(precision=..)`\n",
            "  pd.DataFrame(vEmb[:3,:30], index=[x[:20]+'...' for x in vX.DNA[:3]]).style.background_gradient(cmap='coolwarm', axis=1).set_precision(2)  # show movie description and a few of its embedding features\n"
          ]
        },
        {
          "output_type": "execute_result",
          "data": {
            "text/plain": [
              "<pandas.io.formats.style.Styler at 0x78edb87f3970>"
            ],
            "text/html": [
              "<style type=\"text/css\">\n",
              "#T_d0d50_row0_col0 {\n",
              "  background-color: #cedaeb;\n",
              "  color: #000000;\n",
              "}\n",
              "#T_d0d50_row0_col1, #T_d0d50_row0_col25 {\n",
              "  background-color: #bed2f6;\n",
              "  color: #000000;\n",
              "}\n",
              "#T_d0d50_row0_col2 {\n",
              "  background-color: #89acfd;\n",
              "  color: #000000;\n",
              "}\n",
              "#T_d0d50_row0_col3 {\n",
              "  background-color: #df634e;\n",
              "  color: #f1f1f1;\n",
              "}\n",
              "#T_d0d50_row0_col4, #T_d0d50_row1_col4, #T_d0d50_row2_col4 {\n",
              "  background-color: #3b4cc0;\n",
              "  color: #f1f1f1;\n",
              "}\n",
              "#T_d0d50_row0_col5, #T_d0d50_row1_col5 {\n",
              "  background-color: #f1cdba;\n",
              "  color: #000000;\n",
              "}\n",
              "#T_d0d50_row0_col6 {\n",
              "  background-color: #f7ad90;\n",
              "  color: #000000;\n",
              "}\n",
              "#T_d0d50_row0_col7, #T_d0d50_row2_col27 {\n",
              "  background-color: #abc8fd;\n",
              "  color: #000000;\n",
              "}\n",
              "#T_d0d50_row0_col8 {\n",
              "  background-color: #f5c2aa;\n",
              "  color: #000000;\n",
              "}\n",
              "#T_d0d50_row0_col9 {\n",
              "  background-color: #c9d7f0;\n",
              "  color: #000000;\n",
              "}\n",
              "#T_d0d50_row0_col10 {\n",
              "  background-color: #c7d7f0;\n",
              "  color: #000000;\n",
              "}\n",
              "#T_d0d50_row0_col11, #T_d0d50_row2_col1 {\n",
              "  background-color: #bfd3f6;\n",
              "  color: #000000;\n",
              "}\n",
              "#T_d0d50_row0_col12 {\n",
              "  background-color: #a2c1ff;\n",
              "  color: #000000;\n",
              "}\n",
              "#T_d0d50_row0_col13, #T_d0d50_row1_col9 {\n",
              "  background-color: #a9c6fd;\n",
              "  color: #000000;\n",
              "}\n",
              "#T_d0d50_row0_col14 {\n",
              "  background-color: #8badfd;\n",
              "  color: #000000;\n",
              "}\n",
              "#T_d0d50_row0_col15 {\n",
              "  background-color: #d2dbe8;\n",
              "  color: #000000;\n",
              "}\n",
              "#T_d0d50_row0_col16, #T_d0d50_row1_col12 {\n",
              "  background-color: #85a8fc;\n",
              "  color: #f1f1f1;\n",
              "}\n",
              "#T_d0d50_row0_col17, #T_d0d50_row1_col3, #T_d0d50_row2_col8 {\n",
              "  background-color: #b40426;\n",
              "  color: #f1f1f1;\n",
              "}\n",
              "#T_d0d50_row0_col18 {\n",
              "  background-color: #d9dce1;\n",
              "  color: #000000;\n",
              "}\n",
              "#T_d0d50_row0_col19, #T_d0d50_row0_col24 {\n",
              "  background-color: #94b6ff;\n",
              "  color: #000000;\n",
              "}\n",
              "#T_d0d50_row0_col20 {\n",
              "  background-color: #f7bca1;\n",
              "  color: #000000;\n",
              "}\n",
              "#T_d0d50_row0_col21 {\n",
              "  background-color: #e2dad5;\n",
              "  color: #000000;\n",
              "}\n",
              "#T_d0d50_row0_col22 {\n",
              "  background-color: #93b5fe;\n",
              "  color: #000000;\n",
              "}\n",
              "#T_d0d50_row0_col23 {\n",
              "  background-color: #e0654f;\n",
              "  color: #f1f1f1;\n",
              "}\n",
              "#T_d0d50_row0_col26, #T_d0d50_row1_col26, #T_d0d50_row2_col20 {\n",
              "  background-color: #dedcdb;\n",
              "  color: #000000;\n",
              "}\n",
              "#T_d0d50_row0_col27 {\n",
              "  background-color: #c5d6f2;\n",
              "  color: #000000;\n",
              "}\n",
              "#T_d0d50_row0_col28 {\n",
              "  background-color: #e0dbd8;\n",
              "  color: #000000;\n",
              "}\n",
              "#T_d0d50_row0_col29, #T_d0d50_row1_col24 {\n",
              "  background-color: #b6cefa;\n",
              "  color: #000000;\n",
              "}\n",
              "#T_d0d50_row1_col0 {\n",
              "  background-color: #cad8ef;\n",
              "  color: #000000;\n",
              "}\n",
              "#T_d0d50_row1_col1 {\n",
              "  background-color: #a7c5fe;\n",
              "  color: #000000;\n",
              "}\n",
              "#T_d0d50_row1_col2, #T_d0d50_row1_col19, #T_d0d50_row2_col9 {\n",
              "  background-color: #82a6fb;\n",
              "  color: #f1f1f1;\n",
              "}\n",
              "#T_d0d50_row1_col6 {\n",
              "  background-color: #98b9ff;\n",
              "  color: #000000;\n",
              "}\n",
              "#T_d0d50_row1_col7, #T_d0d50_row1_col16 {\n",
              "  background-color: #9abbff;\n",
              "  color: #000000;\n",
              "}\n",
              "#T_d0d50_row1_col8 {\n",
              "  background-color: #ec8165;\n",
              "  color: #f1f1f1;\n",
              "}\n",
              "#T_d0d50_row1_col10 {\n",
              "  background-color: #92b4fe;\n",
              "  color: #000000;\n",
              "}\n",
              "#T_d0d50_row1_col11 {\n",
              "  background-color: #ccd9ed;\n",
              "  color: #000000;\n",
              "}\n",
              "#T_d0d50_row1_col13 {\n",
              "  background-color: #80a3fa;\n",
              "  color: #f1f1f1;\n",
              "}\n",
              "#T_d0d50_row1_col14 {\n",
              "  background-color: #adc9fd;\n",
              "  color: #000000;\n",
              "}\n",
              "#T_d0d50_row1_col15, #T_d0d50_row2_col10 {\n",
              "  background-color: #b5cdfa;\n",
              "  color: #000000;\n",
              "}\n",
              "#T_d0d50_row1_col17 {\n",
              "  background-color: #c0282f;\n",
              "  color: #f1f1f1;\n",
              "}\n",
              "#T_d0d50_row1_col18 {\n",
              "  background-color: #d4dbe6;\n",
              "  color: #000000;\n",
              "}\n",
              "#T_d0d50_row1_col20 {\n",
              "  background-color: #f5a081;\n",
              "  color: #000000;\n",
              "}\n",
              "#T_d0d50_row1_col21 {\n",
              "  background-color: #f5c4ac;\n",
              "  color: #000000;\n",
              "}\n",
              "#T_d0d50_row1_col22 {\n",
              "  background-color: #6384eb;\n",
              "  color: #f1f1f1;\n",
              "}\n",
              "#T_d0d50_row1_col23 {\n",
              "  background-color: #e8765c;\n",
              "  color: #f1f1f1;\n",
              "}\n",
              "#T_d0d50_row1_col25 {\n",
              "  background-color: #c3d5f4;\n",
              "  color: #000000;\n",
              "}\n",
              "#T_d0d50_row1_col27 {\n",
              "  background-color: #8caffe;\n",
              "  color: #000000;\n",
              "}\n",
              "#T_d0d50_row1_col28 {\n",
              "  background-color: #d5dbe5;\n",
              "  color: #000000;\n",
              "}\n",
              "#T_d0d50_row1_col29 {\n",
              "  background-color: #81a4fb;\n",
              "  color: #f1f1f1;\n",
              "}\n",
              "#T_d0d50_row2_col0 {\n",
              "  background-color: #b3cdfb;\n",
              "  color: #000000;\n",
              "}\n",
              "#T_d0d50_row2_col2 {\n",
              "  background-color: #7295f4;\n",
              "  color: #f1f1f1;\n",
              "}\n",
              "#T_d0d50_row2_col3 {\n",
              "  background-color: #d44e41;\n",
              "  color: #f1f1f1;\n",
              "}\n",
              "#T_d0d50_row2_col5 {\n",
              "  background-color: #ecd3c5;\n",
              "  color: #000000;\n",
              "}\n",
              "#T_d0d50_row2_col6 {\n",
              "  background-color: #7597f6;\n",
              "  color: #f1f1f1;\n",
              "}\n",
              "#T_d0d50_row2_col7 {\n",
              "  background-color: #4358cb;\n",
              "  color: #f1f1f1;\n",
              "}\n",
              "#T_d0d50_row2_col11 {\n",
              "  background-color: #aec9fc;\n",
              "  color: #000000;\n",
              "}\n",
              "#T_d0d50_row2_col12 {\n",
              "  background-color: #6c8ff1;\n",
              "  color: #f1f1f1;\n",
              "}\n",
              "#T_d0d50_row2_col13 {\n",
              "  background-color: #f6bfa6;\n",
              "  color: #000000;\n",
              "}\n",
              "#T_d0d50_row2_col14 {\n",
              "  background-color: #6180e9;\n",
              "  color: #f1f1f1;\n",
              "}\n",
              "#T_d0d50_row2_col15 {\n",
              "  background-color: #aac7fd;\n",
              "  color: #000000;\n",
              "}\n",
              "#T_d0d50_row2_col16 {\n",
              "  background-color: #799cf8;\n",
              "  color: #f1f1f1;\n",
              "}\n",
              "#T_d0d50_row2_col17 {\n",
              "  background-color: #e7745b;\n",
              "  color: #f1f1f1;\n",
              "}\n",
              "#T_d0d50_row2_col18 {\n",
              "  background-color: #6f92f3;\n",
              "  color: #f1f1f1;\n",
              "}\n",
              "#T_d0d50_row2_col19, #T_d0d50_row2_col22, #T_d0d50_row2_col24 {\n",
              "  background-color: #5875e1;\n",
              "  color: #f1f1f1;\n",
              "}\n",
              "#T_d0d50_row2_col21 {\n",
              "  background-color: #ead5c9;\n",
              "  color: #000000;\n",
              "}\n",
              "#T_d0d50_row2_col23 {\n",
              "  background-color: #d24b40;\n",
              "  color: #f1f1f1;\n",
              "}\n",
              "#T_d0d50_row2_col25 {\n",
              "  background-color: #edd1c2;\n",
              "  color: #000000;\n",
              "}\n",
              "#T_d0d50_row2_col26 {\n",
              "  background-color: #efcfbf;\n",
              "  color: #000000;\n",
              "}\n",
              "#T_d0d50_row2_col28 {\n",
              "  background-color: #b1cbfc;\n",
              "  color: #000000;\n",
              "}\n",
              "#T_d0d50_row2_col29 {\n",
              "  background-color: #5b7ae5;\n",
              "  color: #f1f1f1;\n",
              "}\n",
              "</style>\n",
              "<table id=\"T_d0d50\" class=\"dataframe\">\n",
              "  <thead>\n",
              "    <tr>\n",
              "      <th class=\"blank level0\" >&nbsp;</th>\n",
              "      <th id=\"T_d0d50_level0_col0\" class=\"col_heading level0 col0\" >0</th>\n",
              "      <th id=\"T_d0d50_level0_col1\" class=\"col_heading level0 col1\" >1</th>\n",
              "      <th id=\"T_d0d50_level0_col2\" class=\"col_heading level0 col2\" >2</th>\n",
              "      <th id=\"T_d0d50_level0_col3\" class=\"col_heading level0 col3\" >3</th>\n",
              "      <th id=\"T_d0d50_level0_col4\" class=\"col_heading level0 col4\" >4</th>\n",
              "      <th id=\"T_d0d50_level0_col5\" class=\"col_heading level0 col5\" >5</th>\n",
              "      <th id=\"T_d0d50_level0_col6\" class=\"col_heading level0 col6\" >6</th>\n",
              "      <th id=\"T_d0d50_level0_col7\" class=\"col_heading level0 col7\" >7</th>\n",
              "      <th id=\"T_d0d50_level0_col8\" class=\"col_heading level0 col8\" >8</th>\n",
              "      <th id=\"T_d0d50_level0_col9\" class=\"col_heading level0 col9\" >9</th>\n",
              "      <th id=\"T_d0d50_level0_col10\" class=\"col_heading level0 col10\" >10</th>\n",
              "      <th id=\"T_d0d50_level0_col11\" class=\"col_heading level0 col11\" >11</th>\n",
              "      <th id=\"T_d0d50_level0_col12\" class=\"col_heading level0 col12\" >12</th>\n",
              "      <th id=\"T_d0d50_level0_col13\" class=\"col_heading level0 col13\" >13</th>\n",
              "      <th id=\"T_d0d50_level0_col14\" class=\"col_heading level0 col14\" >14</th>\n",
              "      <th id=\"T_d0d50_level0_col15\" class=\"col_heading level0 col15\" >15</th>\n",
              "      <th id=\"T_d0d50_level0_col16\" class=\"col_heading level0 col16\" >16</th>\n",
              "      <th id=\"T_d0d50_level0_col17\" class=\"col_heading level0 col17\" >17</th>\n",
              "      <th id=\"T_d0d50_level0_col18\" class=\"col_heading level0 col18\" >18</th>\n",
              "      <th id=\"T_d0d50_level0_col19\" class=\"col_heading level0 col19\" >19</th>\n",
              "      <th id=\"T_d0d50_level0_col20\" class=\"col_heading level0 col20\" >20</th>\n",
              "      <th id=\"T_d0d50_level0_col21\" class=\"col_heading level0 col21\" >21</th>\n",
              "      <th id=\"T_d0d50_level0_col22\" class=\"col_heading level0 col22\" >22</th>\n",
              "      <th id=\"T_d0d50_level0_col23\" class=\"col_heading level0 col23\" >23</th>\n",
              "      <th id=\"T_d0d50_level0_col24\" class=\"col_heading level0 col24\" >24</th>\n",
              "      <th id=\"T_d0d50_level0_col25\" class=\"col_heading level0 col25\" >25</th>\n",
              "      <th id=\"T_d0d50_level0_col26\" class=\"col_heading level0 col26\" >26</th>\n",
              "      <th id=\"T_d0d50_level0_col27\" class=\"col_heading level0 col27\" >27</th>\n",
              "      <th id=\"T_d0d50_level0_col28\" class=\"col_heading level0 col28\" >28</th>\n",
              "      <th id=\"T_d0d50_level0_col29\" class=\"col_heading level0 col29\" >29</th>\n",
              "    </tr>\n",
              "  </thead>\n",
              "  <tbody>\n",
              "    <tr>\n",
              "      <th id=\"T_d0d50_level0_row0\" class=\"row_heading level0 row0\" >TTGATTAATAAGATTCCTTG...</th>\n",
              "      <td id=\"T_d0d50_row0_col0\" class=\"data row0 col0\" >0.00</td>\n",
              "      <td id=\"T_d0d50_row0_col1\" class=\"data row0 col1\" >0.00</td>\n",
              "      <td id=\"T_d0d50_row0_col2\" class=\"data row0 col2\" >-0.00</td>\n",
              "      <td id=\"T_d0d50_row0_col3\" class=\"data row0 col3\" >0.01</td>\n",
              "      <td id=\"T_d0d50_row0_col4\" class=\"data row0 col4\" >-0.01</td>\n",
              "      <td id=\"T_d0d50_row0_col5\" class=\"data row0 col5\" >0.01</td>\n",
              "      <td id=\"T_d0d50_row0_col6\" class=\"data row0 col6\" >0.01</td>\n",
              "      <td id=\"T_d0d50_row0_col7\" class=\"data row0 col7\" >0.00</td>\n",
              "      <td id=\"T_d0d50_row0_col8\" class=\"data row0 col8\" >0.01</td>\n",
              "      <td id=\"T_d0d50_row0_col9\" class=\"data row0 col9\" >0.00</td>\n",
              "      <td id=\"T_d0d50_row0_col10\" class=\"data row0 col10\" >0.00</td>\n",
              "      <td id=\"T_d0d50_row0_col11\" class=\"data row0 col11\" >0.00</td>\n",
              "      <td id=\"T_d0d50_row0_col12\" class=\"data row0 col12\" >0.00</td>\n",
              "      <td id=\"T_d0d50_row0_col13\" class=\"data row0 col13\" >0.00</td>\n",
              "      <td id=\"T_d0d50_row0_col14\" class=\"data row0 col14\" >-0.00</td>\n",
              "      <td id=\"T_d0d50_row0_col15\" class=\"data row0 col15\" >0.00</td>\n",
              "      <td id=\"T_d0d50_row0_col16\" class=\"data row0 col16\" >-0.00</td>\n",
              "      <td id=\"T_d0d50_row0_col17\" class=\"data row0 col17\" >0.01</td>\n",
              "      <td id=\"T_d0d50_row0_col18\" class=\"data row0 col18\" >0.00</td>\n",
              "      <td id=\"T_d0d50_row0_col19\" class=\"data row0 col19\" >-0.00</td>\n",
              "      <td id=\"T_d0d50_row0_col20\" class=\"data row0 col20\" >0.01</td>\n",
              "      <td id=\"T_d0d50_row0_col21\" class=\"data row0 col21\" >0.00</td>\n",
              "      <td id=\"T_d0d50_row0_col22\" class=\"data row0 col22\" >-0.00</td>\n",
              "      <td id=\"T_d0d50_row0_col23\" class=\"data row0 col23\" >0.01</td>\n",
              "      <td id=\"T_d0d50_row0_col24\" class=\"data row0 col24\" >-0.00</td>\n",
              "      <td id=\"T_d0d50_row0_col25\" class=\"data row0 col25\" >0.00</td>\n",
              "      <td id=\"T_d0d50_row0_col26\" class=\"data row0 col26\" >0.00</td>\n",
              "      <td id=\"T_d0d50_row0_col27\" class=\"data row0 col27\" >0.00</td>\n",
              "      <td id=\"T_d0d50_row0_col28\" class=\"data row0 col28\" >0.00</td>\n",
              "      <td id=\"T_d0d50_row0_col29\" class=\"data row0 col29\" >0.00</td>\n",
              "    </tr>\n",
              "    <tr>\n",
              "      <th id=\"T_d0d50_level0_row1\" class=\"row_heading level0 row1\" >ATTAGTAACGGAGGATTTAC...</th>\n",
              "      <td id=\"T_d0d50_row1_col0\" class=\"data row1 col0\" >0.00</td>\n",
              "      <td id=\"T_d0d50_row1_col1\" class=\"data row1 col1\" >0.00</td>\n",
              "      <td id=\"T_d0d50_row1_col2\" class=\"data row1 col2\" >0.00</td>\n",
              "      <td id=\"T_d0d50_row1_col3\" class=\"data row1 col3\" >0.02</td>\n",
              "      <td id=\"T_d0d50_row1_col4\" class=\"data row1 col4\" >-0.00</td>\n",
              "      <td id=\"T_d0d50_row1_col5\" class=\"data row1 col5\" >0.01</td>\n",
              "      <td id=\"T_d0d50_row1_col6\" class=\"data row1 col6\" >0.00</td>\n",
              "      <td id=\"T_d0d50_row1_col7\" class=\"data row1 col7\" >0.00</td>\n",
              "      <td id=\"T_d0d50_row1_col8\" class=\"data row1 col8\" >0.01</td>\n",
              "      <td id=\"T_d0d50_row1_col9\" class=\"data row1 col9\" >0.00</td>\n",
              "      <td id=\"T_d0d50_row1_col10\" class=\"data row1 col10\" >0.00</td>\n",
              "      <td id=\"T_d0d50_row1_col11\" class=\"data row1 col11\" >0.00</td>\n",
              "      <td id=\"T_d0d50_row1_col12\" class=\"data row1 col12\" >0.00</td>\n",
              "      <td id=\"T_d0d50_row1_col13\" class=\"data row1 col13\" >0.00</td>\n",
              "      <td id=\"T_d0d50_row1_col14\" class=\"data row1 col14\" >0.00</td>\n",
              "      <td id=\"T_d0d50_row1_col15\" class=\"data row1 col15\" >0.00</td>\n",
              "      <td id=\"T_d0d50_row1_col16\" class=\"data row1 col16\" >0.00</td>\n",
              "      <td id=\"T_d0d50_row1_col17\" class=\"data row1 col17\" >0.01</td>\n",
              "      <td id=\"T_d0d50_row1_col18\" class=\"data row1 col18\" >0.01</td>\n",
              "      <td id=\"T_d0d50_row1_col19\" class=\"data row1 col19\" >0.00</td>\n",
              "      <td id=\"T_d0d50_row1_col20\" class=\"data row1 col20\" >0.01</td>\n",
              "      <td id=\"T_d0d50_row1_col21\" class=\"data row1 col21\" >0.01</td>\n",
              "      <td id=\"T_d0d50_row1_col22\" class=\"data row1 col22\" >-0.00</td>\n",
              "      <td id=\"T_d0d50_row1_col23\" class=\"data row1 col23\" >0.01</td>\n",
              "      <td id=\"T_d0d50_row1_col24\" class=\"data row1 col24\" >0.00</td>\n",
              "      <td id=\"T_d0d50_row1_col25\" class=\"data row1 col25\" >0.00</td>\n",
              "      <td id=\"T_d0d50_row1_col26\" class=\"data row1 col26\" >0.01</td>\n",
              "      <td id=\"T_d0d50_row1_col27\" class=\"data row1 col27\" >0.00</td>\n",
              "      <td id=\"T_d0d50_row1_col28\" class=\"data row1 col28\" >0.01</td>\n",
              "      <td id=\"T_d0d50_row1_col29\" class=\"data row1 col29\" >0.00</td>\n",
              "    </tr>\n",
              "    <tr>\n",
              "      <th id=\"T_d0d50_level0_row2\" class=\"row_heading level0 row2\" >AAAAAGCCGTAAAAGACGAT...</th>\n",
              "      <td id=\"T_d0d50_row2_col0\" class=\"data row2 col0\" >0.00</td>\n",
              "      <td id=\"T_d0d50_row2_col1\" class=\"data row2 col1\" >0.00</td>\n",
              "      <td id=\"T_d0d50_row2_col2\" class=\"data row2 col2\" >0.00</td>\n",
              "      <td id=\"T_d0d50_row2_col3\" class=\"data row2 col3\" >0.01</td>\n",
              "      <td id=\"T_d0d50_row2_col4\" class=\"data row2 col4\" >-0.00</td>\n",
              "      <td id=\"T_d0d50_row2_col5\" class=\"data row2 col5\" >0.01</td>\n",
              "      <td id=\"T_d0d50_row2_col6\" class=\"data row2 col6\" >0.00</td>\n",
              "      <td id=\"T_d0d50_row2_col7\" class=\"data row2 col7\" >-0.00</td>\n",
              "      <td id=\"T_d0d50_row2_col8\" class=\"data row2 col8\" >0.01</td>\n",
              "      <td id=\"T_d0d50_row2_col9\" class=\"data row2 col9\" >0.00</td>\n",
              "      <td id=\"T_d0d50_row2_col10\" class=\"data row2 col10\" >0.00</td>\n",
              "      <td id=\"T_d0d50_row2_col11\" class=\"data row2 col11\" >0.00</td>\n",
              "      <td id=\"T_d0d50_row2_col12\" class=\"data row2 col12\" >0.00</td>\n",
              "      <td id=\"T_d0d50_row2_col13\" class=\"data row2 col13\" >0.01</td>\n",
              "      <td id=\"T_d0d50_row2_col14\" class=\"data row2 col14\" >0.00</td>\n",
              "      <td id=\"T_d0d50_row2_col15\" class=\"data row2 col15\" >0.00</td>\n",
              "      <td id=\"T_d0d50_row2_col16\" class=\"data row2 col16\" >0.00</td>\n",
              "      <td id=\"T_d0d50_row2_col17\" class=\"data row2 col17\" >0.01</td>\n",
              "      <td id=\"T_d0d50_row2_col18\" class=\"data row2 col18\" >0.00</td>\n",
              "      <td id=\"T_d0d50_row2_col19\" class=\"data row2 col19\" >-0.00</td>\n",
              "      <td id=\"T_d0d50_row2_col20\" class=\"data row2 col20\" >0.01</td>\n",
              "      <td id=\"T_d0d50_row2_col21\" class=\"data row2 col21\" >0.01</td>\n",
              "      <td id=\"T_d0d50_row2_col22\" class=\"data row2 col22\" >-0.00</td>\n",
              "      <td id=\"T_d0d50_row2_col23\" class=\"data row2 col23\" >0.01</td>\n",
              "      <td id=\"T_d0d50_row2_col24\" class=\"data row2 col24\" >-0.00</td>\n",
              "      <td id=\"T_d0d50_row2_col25\" class=\"data row2 col25\" >0.01</td>\n",
              "      <td id=\"T_d0d50_row2_col26\" class=\"data row2 col26\" >0.01</td>\n",
              "      <td id=\"T_d0d50_row2_col27\" class=\"data row2 col27\" >0.00</td>\n",
              "      <td id=\"T_d0d50_row2_col28\" class=\"data row2 col28\" >0.00</td>\n",
              "      <td id=\"T_d0d50_row2_col29\" class=\"data row2 col29\" >-0.00</td>\n",
              "    </tr>\n",
              "  </tbody>\n",
              "</table>\n"
            ]
          },
          "metadata": {},
          "execution_count": 107
        }
      ]
    },
    {
      "cell_type": "code",
      "metadata": {
        "id": "P7S-L3EFJHqB",
        "colab": {
          "base_uri": "https://localhost:8080/"
        },
        "outputId": "6c0fdf57-30ff-4a75-ce21-37cd8837969e"
      },
      "source": [
        "%time m = LinearSVC(random_state=0, max_iter=10000).fit(tEmb, tYX.Y)  # SVC is ok to use. See updated Rules.\n",
        "m.score(tEmb, tYX.Y)   # in-sample accuracy"
      ],
      "execution_count": null,
      "outputs": [
        {
          "output_type": "stream",
          "name": "stdout",
          "text": [
            "CPU times: user 16.2 s, sys: 1.16 s, total: 17.4 s\n",
            "Wall time: 17.4 s\n"
          ]
        },
        {
          "output_type": "execute_result",
          "data": {
            "text/plain": [
              "0.9648"
            ]
          },
          "metadata": {},
          "execution_count": 108
        }
      ]
    },
    {
      "cell_type": "code",
      "metadata": {
        "id": "U1PsK7LZJIgQ"
      },
      "source": [
        "pY = pd.DataFrame(m.predict(vEmb), index=vX.index, columns=['y'])   # predicted targets\n",
        "ToCSV((pY>0.5)*1, 'MySubmission')"
      ],
      "execution_count": null,
      "outputs": []
    },
    {
      "cell_type": "markdown",
      "source": [
        "# **References:**"
      ],
      "metadata": {
        "id": "pzBsjCvS_kEw"
      }
    },
    {
      "cell_type": "markdown",
      "source": [
        "1. Remember to cite your sources here as well! At the least, your textbook should be cited. Google Scholar allows you to effortlessly copy/paste an APA citation format for books and publications. Also cite StackOverflow, package documentation, and other meaningful internet resources to help your peers learn from these (and to avoid plagiarism claims).\n",
        "1. ...\n",
        "1. ..."
      ],
      "metadata": {
        "id": "2kr8Q-9T_nAb"
      }
    },
    {
      "cell_type": "markdown",
      "source": [
        "1. https://stackoverflow.com/\n",
        "2. https://scikit-learn.org/stable/modules/generated/sklearn.multioutput.MultiOutputRegressor.html\n",
        "3. https://scikit-learn.org/stable/modules/generated/sklearn.linear_model.Ridge.html\n",
        "4. https://scikit-learn.org/stable/modules/linear_model.html\n",
        "5. https://scikit-learn.org/stable/modules/generated/sklearn.preprocessing.StandardScaler.html\n",
        "6. https://scikit-learn.org/stable/modules/generated/sklearn.ensemble.VotingRegressor.html\n",
        "7. https://scikit-learn.org/stable/modules/generated/sklearn.preprocessing.SplineTransformer.html\n",
        "8. ISLR textbook\n",
        "9. https://www.geeksforgeeks.org/"
      ],
      "metadata": {
        "id": "WY-_ZDIUymHG"
      }
    },
    {
      "cell_type": "markdown",
      "source": [
        "<font size=5>⌛</font> <strong><font color=orange size=5>Do not exceed competition's runtime limit!</font></strong>\n",
        "\n",
        "<hr color=red>\n"
      ],
      "metadata": {
        "id": "DoF2GoB_QGw9"
      }
    },
    {
      "cell_type": "code",
      "metadata": {
        "id": "nosV1OWFJPx5",
        "colab": {
          "base_uri": "https://localhost:8080/"
        },
        "outputId": "70ae3882-a72a-41f3-b5e2-861b58d39674"
      },
      "source": [
        "tmr.ShowTime()    # measure Colab's runtime. Do not remove. Keep as the last cell in your notebook."
      ],
      "execution_count": null,
      "outputs": [
        {
          "output_type": "stream",
          "name": "stdout",
          "text": [
            "Runtime is 296 sec\n"
          ]
        }
      ]
    },
    {
      "cell_type": "markdown",
      "metadata": {
        "id": "udpl5HJ4JSLr"
      },
      "source": [
        "# 💡**Starter Ideas**"
      ]
    },
    {
      "cell_type": "markdown",
      "metadata": {
        "id": "uWllDRgiJVDJ"
      },
      "source": [
        "1. Learn about DNA [&#127910;](https://www.youtube.com/results?search_query=nucleotides+genes+amino+acids+)\n",
        "1. Try a larger training sample.\n",
        "1. Try longer training DNA strings, but SBERT may have a cap on string length, so you might split DNA into several strings and then concatenate or average resulting vectors\n",
        "1. Try other pretrained SBERT models. Note that DNA sequence uses ACGT letters, but many other models were trained on multilingual text. So, you might prefer those that were trained on mostly ASCII.\n",
        "1. SBERT is trained on word tokens (typically, separated by spaces), but DNA sequence has no spaces. Try placing spaces after every character or some semantically meaningful subsequences (this might require more domain knowledge).\n",
        "1. Try Google's [USE](https://tfhub.dev/google/universal-sentence-encoder-multilingual/3) embedding models\n",
        "1. Try Facebook's [LASER](https://github.com/facebookresearch/LASER) and [others](https://tfhub.dev/s?module-type=text-language-model).\n",
        "1. Try [Enformer](https://tfhub.dev/deepmind/enformer/1) for gene expressions. See [DeepMind paper](https://deepmind.com/blog/article/enformer).\n",
        "1. Try building your own embeddings on the given sequences. SBERT and other packages make it easy (just a few lines), but it may take too much time.\n",
        "1. Assess distribution of character patterns (single, doubles, triplets, ...). For example, an ACGT string generates AC, CG, GT doubles and ACG and CGT triplets. Does one class have more subsequences of some type? This might be a feature in your model.\n",
        "1. Try features built as counts of subsequences (singles, doubles, triplets, ...). Consider EDA first.\n",
        "1. Concatenate or otherwise combine multiple embeddings derived from each gene string\n",
        "1. Learn from [*The genetic code*](https://www.khanacademy.org/science/ap-biology/gene-expression-and-regulation/translation/a/the-genetic-code-discovery-and-properties), Khan Academy.\n",
        "1. Learn from [*Apply Machine Learning Algorithms for Genomics Data Classification*](https://medium.com/mlearning-ai/apply-machine-learning-algorithms-for-genomics-data-classification-132972933723)\n",
        "1. Learn from [*Efficient counting of k-mers in DNA sequences using a bloom filter*](https://bmcbioinformatics.biomedcentral.com/articles/10.1186/1471-2105-12-333) Páll Melsted et al. 2011\n",
        "1. Try [Byte Pair Encoding](https://www.derczynski.com/papers/archive/BPE_Gage.pdf) and [SentencePiece](https://arxiv.org/pdf/1808.06226.pdf) to auto identification of \"important\" [k-mers](https://en.wikipedia.org/wiki/K-mer) (substrings)"
      ]
    },
    {
      "cell_type": "code",
      "metadata": {
        "id": "hFwKcfCnmmGh"
      },
      "source": [],
      "execution_count": null,
      "outputs": []
    }
  ]
}