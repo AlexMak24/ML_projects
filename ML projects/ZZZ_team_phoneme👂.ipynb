{
  "cells": [
    {
      "cell_type": "markdown",
      "metadata": {
        "id": "q3pqxgX4DxeH"
      },
      "source": [
        "<small><font color=gray>Notebook author: <a href=\"https://www.linkedin.com/in/olegmelnikov/\" target=\"_blank\">Oleg Melnikov</a> ©2021 onwards</font></small><hr style=\"margin:0;background-color:silver\">\n",
        "\n",
        "**[<font size=6>👂Phonemes</font>](https://www.kaggle.com/competitions/16oct23hse-phonemes/rules)**. [**Instructions**](https://colab.research.google.com/drive/1owkYjuRGkx050LQnM3b3yTzd0Dr2XbeV) for running Colabs."
      ]
    },
    {
      "cell_type": "markdown",
      "metadata": {
        "id": "5yMag5FdMw1Q"
      },
      "source": [
        "<small>**(Optional) CONSENT.** <mark>[ X ]</mark> We consent to sharing our Colab (after the assignment ends) with other students/instructors for educational purposes. We understand that sharing is optional and this decision will not affect our grade in any way. <font color=gray><i>(If ok with sharing your Colab for educational purposes, leave \"X\" in the check box.)</i></font></small>"
      ]
    },
    {
      "cell_type": "code",
      "execution_count": null,
      "metadata": {
        "id": "qrogZ_8bD9tZ",
        "colab": {
          "base_uri": "https://localhost:8080/"
        },
        "outputId": "abc1ae42-dada-4d7e-95d0-fb4223a21c9b"
      },
      "outputs": [
        {
          "output_type": "stream",
          "name": "stdout",
          "text": [
            "Drive already mounted at /content/drive; to attempt to forcibly remount, call drive.mount(\"/content/drive\", force_remount=True).\n"
          ]
        }
      ],
      "source": [
        "from google.colab import drive; drive.mount('/content/drive')   # OK to enable, if your kaggle.json is stored in Google Drive"
      ]
    },
    {
      "cell_type": "code",
      "execution_count": null,
      "metadata": {
        "id": "d8XoC8VqBXGs",
        "colab": {
          "base_uri": "https://localhost:8080/"
        },
        "outputId": "d613a92b-666b-4aa3-d925-199e273f370e"
      },
      "outputs": [
        {
          "output_type": "stream",
          "name": "stdout",
          "text": [
            "- competition is now set to: b16oct23hse-phonemes\n",
            "100% 28.8M/28.8M [00:00<00:00, 110MB/s]\n",
            "Using competition: b16oct23hse-phonemes\n",
            "  teamId  teamName                                        submissionDate       score    \n",
            "--------  ----------------------------------------------  -------------------  -------  \n",
            "11111161  Z                                               2023-11-12 10:23:44  0.93800  \n",
            "11112560  W                                               2023-11-12 12:03:37  0.93500  \n",
            "11231051  U team                                          2023-11-12 08:05:22  0.93140  \n",
            "11094096  C                                               2023-11-12 13:45:18  0.93060  \n",
            "11230233  V                                               2023-11-12 15:32:42  0.93060  \n",
            "11230846  G (Anna Pronina, Enci Li)                       2023-11-12 14:33:31  0.93040  \n",
            "11224470  I                                               2023-11-12 16:27:19  0.93000  \n",
            "11115547  AA                                              2023-11-12 06:03:08  0.92980  \n",
            "11197239  E                                               2023-11-12 01:25:03  0.92960  \n",
            "11230389  X                                               2023-11-12 16:04:03  0.92880  \n",
            "11096743  Q                                               2023-11-12 19:27:55  0.92840  \n",
            "11154152  O                                               2023-11-12 20:48:18  0.92620  \n",
            "11141243  N                                               2023-11-12 19:48:57  0.92540  \n",
            "11213122  Y                                               2023-11-12 10:05:18  0.92500  \n",
            "11211489  Naumenko Daria                                  2023-11-12 19:45:45  0.91440  \n",
            "11230853  A                                               2023-11-12 19:37:40  0.90940  \n",
            "11112671  L                                               2023-11-12 18:43:23  0.90800  \n",
            "11170140  T                                               2023-11-12 13:44:41  0.90680  \n",
            "11228594  M                                               2023-11-11 17:46:15  0.90280  \n",
            "11222714  K                                               2023-11-12 19:33:24  0.89740  \n",
            "11175576  R                                               2023-11-12 19:52:42  0.89380  \n",
            "11145990  B                                               2023-11-12 08:21:49  0.88280  \n",
            "11137242  wonderful team                                  2023-11-11 22:20:49  0.87780  \n",
            "11225859  J                                               2023-11-12 15:33:09  0.87440  \n",
            "11222907  Ivan Orlov 207                                  2023-11-12 10:40:32  0.87380  \n",
            "11232052  [Deleted] 1b142519-dad1-4e50-8e91-b54b21065aea  2023-11-12 14:02:05  0.85560  \n",
            "11228733  F                                               2023-11-12 02:20:33  0.82020  \n",
            "11110683  H                                               2023-11-11 19:06:49  0.81600  \n",
            "11062907  👂Baseline                                       2022-10-16 15:39:48  0.61040  \n"
          ]
        }
      ],
      "source": [
        "!pip -q install --upgrade --force-reinstall --no-deps kaggle > log  # upgrade kaggle package (to avoid a warning)\n",
        "!mkdir -p ~/.kaggle                                           # .kaggle folder must contain kaggle.json for kaggle executable to properly authenticate you to Kaggle.com\n",
        "!cp /content/drive/MyDrive/kaggle.json ~/.kaggle/kaggle.json >log  # First, download kaggle.json from kaggle.com (in Account page) and place it in the root of mounted Google Drive\n",
        "# !cp kaggle.json ~/.kaggle/kaggle.json > log                   # Alternative location of kaggle.json (without a connection to Google Drive)\n",
        "!chmod 600 ~/.kaggle/kaggle.json                              # give only the owner full read/write access to kaggle.json\n",
        "!kaggle config set -n competition -v b16oct23hse-phonemes      # set the competition context for the next few kaggle API calls. !kaggle config view - shows current settings\n",
        "!kaggle competitions download >> log                          # download competition dataset as a zip file\n",
        "!unzip -o *.zip >> log                                        # Kaggle dataset is copied as a single file and needs to be unzipped.\n",
        "!kaggle competitions leaderboard --show                     # print public leaderboard"
      ]
    },
    {
      "cell_type": "code",
      "execution_count": null,
      "metadata": {
        "id": "7CyC-JlZFga1",
        "colab": {
          "base_uri": "https://localhost:8080/"
        },
        "outputId": "bdb03bc7-fd9e-4c5a-b200-77f55d7cf1c8"
      },
      "outputs": [
        {
          "output_type": "stream",
          "name": "stdout",
          "text": [
            "CPU times: user 254 ms, sys: 2.04 ms, total: 256 ms\n",
            "Wall time: 263 ms\n"
          ]
        }
      ],
      "source": [
        "%%time\n",
        "%%capture\n",
        "%reset -f\n",
        "from IPython.core.interactiveshell import InteractiveShell as IS; IS.ast_node_interactivity = \"all\"\n",
        "import numpy as np, pandas as pd, time, matplotlib.pyplot as plt, seaborn as sns, os, tqdm, re, sys, cv2, skimage, xgboost, lightgbm as lgb, librosa\n",
        "from sklearn.preprocessing import PolynomialFeatures\n",
        "from sklearn.linear_model import LogisticRegression as LR\n",
        "from sklearn.ensemble import GradientBoostingClassifier as GBC\n",
        "from sklearn.discriminant_analysis import QuadraticDiscriminantAnalysis as QDA, LinearDiscriminantAnalysis as LDA\n",
        "ToCSV = lambda df, fname: df.round(2).to_csv(f'{fname}.csv', index_label='id') # rounds values to 2 decimals\n",
        "\n",
        "class Timer():\n",
        "  def __init__(self, lim:'RunTimeLimit'=60): self.t0, self.lim, _ = time.time(), lim, print(f'⏳ started. You have {lim} sec. Good luck!')\n",
        "  def ShowTime(self):\n",
        "    msg = f'Runtime is {time.time()-self.t0:.0f} sec'\n",
        "    print(f'\\033[91m\\033[1m' + msg + f' > {self.lim} sec limit!!!\\033[0m' if (time.time()-self.t0-1) > self.lim else msg)\n",
        "\n",
        "np.set_printoptions(linewidth=100, precision=2, edgeitems=2, suppress=True)\n",
        "pd.set_option('display.max_columns', 20, 'display.precision', 2, 'display.max_rows', 4)"
      ]
    },
    {
      "cell_type": "code",
      "execution_count": null,
      "metadata": {
        "id": "X00bQLb5FpxU",
        "colab": {
          "base_uri": "https://localhost:8080/",
          "height": 235
        },
        "outputId": "b2fdde39-a2e5-4ae0-e103-44108fab8102"
      },
      "outputs": [
        {
          "output_type": "execute_result",
          "data": {
            "text/plain": [
              "          x1     x2     x3     x4     x5     x6     x7     x8     x9    x10  \\\n",
              "0      11.14  15.17  19.12  18.78  13.79  18.98  20.09  19.16  17.32  19.76   \n",
              "1      10.84  15.20  19.80  17.82  14.10  17.93  19.54  20.97  16.65  22.41   \n",
              "...      ...    ...    ...    ...    ...    ...    ...    ...    ...    ...   \n",
              "59998  12.15  15.78  21.27  19.61  15.14  21.44  23.24  20.91  17.42  21.22   \n",
              "59999  14.78  14.08  15.70  15.51  15.36  15.52  14.68  15.57  15.48  15.45   \n",
              "\n",
              "       ...   x249   x250   x251   x252   x253   x254   x255   x256  SpkrID  \\\n",
              "0      ...   7.79  10.95  10.05   8.67  10.84   9.50   7.96   9.04       0   \n",
              "1      ...  12.95  13.05  11.95  11.07  10.81   9.71  11.57  12.22       0   \n",
              "...    ...    ...    ...    ...    ...    ...    ...    ...    ...     ...   \n",
              "59998  ...   8.82   8.00   7.44   8.32   6.51   8.33   6.83   7.02     436   \n",
              "59999  ...  12.87  13.26  13.16  12.65  13.90  13.10  11.16  13.53     436   \n",
              "\n",
              "         g  \n",
              "0      NaN  \n",
              "1      NaN  \n",
              "...    ...  \n",
              "59998   ao  \n",
              "59999   sh  \n",
              "\n",
              "[60000 rows x 258 columns]"
            ],
            "text/html": [
              "\n",
              "  <div id=\"df-775d4fb1-8371-48d1-a01e-4ceb3aabaff3\" class=\"colab-df-container\">\n",
              "    <div>\n",
              "<style scoped>\n",
              "    .dataframe tbody tr th:only-of-type {\n",
              "        vertical-align: middle;\n",
              "    }\n",
              "\n",
              "    .dataframe tbody tr th {\n",
              "        vertical-align: top;\n",
              "    }\n",
              "\n",
              "    .dataframe thead th {\n",
              "        text-align: right;\n",
              "    }\n",
              "</style>\n",
              "<table border=\"1\" class=\"dataframe\">\n",
              "  <thead>\n",
              "    <tr style=\"text-align: right;\">\n",
              "      <th></th>\n",
              "      <th>x1</th>\n",
              "      <th>x2</th>\n",
              "      <th>x3</th>\n",
              "      <th>x4</th>\n",
              "      <th>x5</th>\n",
              "      <th>x6</th>\n",
              "      <th>x7</th>\n",
              "      <th>x8</th>\n",
              "      <th>x9</th>\n",
              "      <th>x10</th>\n",
              "      <th>...</th>\n",
              "      <th>x249</th>\n",
              "      <th>x250</th>\n",
              "      <th>x251</th>\n",
              "      <th>x252</th>\n",
              "      <th>x253</th>\n",
              "      <th>x254</th>\n",
              "      <th>x255</th>\n",
              "      <th>x256</th>\n",
              "      <th>SpkrID</th>\n",
              "      <th>g</th>\n",
              "    </tr>\n",
              "  </thead>\n",
              "  <tbody>\n",
              "    <tr>\n",
              "      <th>0</th>\n",
              "      <td>11.14</td>\n",
              "      <td>15.17</td>\n",
              "      <td>19.12</td>\n",
              "      <td>18.78</td>\n",
              "      <td>13.79</td>\n",
              "      <td>18.98</td>\n",
              "      <td>20.09</td>\n",
              "      <td>19.16</td>\n",
              "      <td>17.32</td>\n",
              "      <td>19.76</td>\n",
              "      <td>...</td>\n",
              "      <td>7.79</td>\n",
              "      <td>10.95</td>\n",
              "      <td>10.05</td>\n",
              "      <td>8.67</td>\n",
              "      <td>10.84</td>\n",
              "      <td>9.50</td>\n",
              "      <td>7.96</td>\n",
              "      <td>9.04</td>\n",
              "      <td>0</td>\n",
              "      <td>NaN</td>\n",
              "    </tr>\n",
              "    <tr>\n",
              "      <th>1</th>\n",
              "      <td>10.84</td>\n",
              "      <td>15.20</td>\n",
              "      <td>19.80</td>\n",
              "      <td>17.82</td>\n",
              "      <td>14.10</td>\n",
              "      <td>17.93</td>\n",
              "      <td>19.54</td>\n",
              "      <td>20.97</td>\n",
              "      <td>16.65</td>\n",
              "      <td>22.41</td>\n",
              "      <td>...</td>\n",
              "      <td>12.95</td>\n",
              "      <td>13.05</td>\n",
              "      <td>11.95</td>\n",
              "      <td>11.07</td>\n",
              "      <td>10.81</td>\n",
              "      <td>9.71</td>\n",
              "      <td>11.57</td>\n",
              "      <td>12.22</td>\n",
              "      <td>0</td>\n",
              "      <td>NaN</td>\n",
              "    </tr>\n",
              "    <tr>\n",
              "      <th>...</th>\n",
              "      <td>...</td>\n",
              "      <td>...</td>\n",
              "      <td>...</td>\n",
              "      <td>...</td>\n",
              "      <td>...</td>\n",
              "      <td>...</td>\n",
              "      <td>...</td>\n",
              "      <td>...</td>\n",
              "      <td>...</td>\n",
              "      <td>...</td>\n",
              "      <td>...</td>\n",
              "      <td>...</td>\n",
              "      <td>...</td>\n",
              "      <td>...</td>\n",
              "      <td>...</td>\n",
              "      <td>...</td>\n",
              "      <td>...</td>\n",
              "      <td>...</td>\n",
              "      <td>...</td>\n",
              "      <td>...</td>\n",
              "      <td>...</td>\n",
              "    </tr>\n",
              "    <tr>\n",
              "      <th>59998</th>\n",
              "      <td>12.15</td>\n",
              "      <td>15.78</td>\n",
              "      <td>21.27</td>\n",
              "      <td>19.61</td>\n",
              "      <td>15.14</td>\n",
              "      <td>21.44</td>\n",
              "      <td>23.24</td>\n",
              "      <td>20.91</td>\n",
              "      <td>17.42</td>\n",
              "      <td>21.22</td>\n",
              "      <td>...</td>\n",
              "      <td>8.82</td>\n",
              "      <td>8.00</td>\n",
              "      <td>7.44</td>\n",
              "      <td>8.32</td>\n",
              "      <td>6.51</td>\n",
              "      <td>8.33</td>\n",
              "      <td>6.83</td>\n",
              "      <td>7.02</td>\n",
              "      <td>436</td>\n",
              "      <td>ao</td>\n",
              "    </tr>\n",
              "    <tr>\n",
              "      <th>59999</th>\n",
              "      <td>14.78</td>\n",
              "      <td>14.08</td>\n",
              "      <td>15.70</td>\n",
              "      <td>15.51</td>\n",
              "      <td>15.36</td>\n",
              "      <td>15.52</td>\n",
              "      <td>14.68</td>\n",
              "      <td>15.57</td>\n",
              "      <td>15.48</td>\n",
              "      <td>15.45</td>\n",
              "      <td>...</td>\n",
              "      <td>12.87</td>\n",
              "      <td>13.26</td>\n",
              "      <td>13.16</td>\n",
              "      <td>12.65</td>\n",
              "      <td>13.90</td>\n",
              "      <td>13.10</td>\n",
              "      <td>11.16</td>\n",
              "      <td>13.53</td>\n",
              "      <td>436</td>\n",
              "      <td>sh</td>\n",
              "    </tr>\n",
              "  </tbody>\n",
              "</table>\n",
              "<p>60000 rows × 258 columns</p>\n",
              "</div>\n",
              "    <div class=\"colab-df-buttons\">\n",
              "\n",
              "  <div class=\"colab-df-container\">\n",
              "    <button class=\"colab-df-convert\" onclick=\"convertToInteractive('df-775d4fb1-8371-48d1-a01e-4ceb3aabaff3')\"\n",
              "            title=\"Convert this dataframe to an interactive table.\"\n",
              "            style=\"display:none;\">\n",
              "\n",
              "  <svg xmlns=\"http://www.w3.org/2000/svg\" height=\"24px\" viewBox=\"0 -960 960 960\">\n",
              "    <path d=\"M120-120v-720h720v720H120Zm60-500h600v-160H180v160Zm220 220h160v-160H400v160Zm0 220h160v-160H400v160ZM180-400h160v-160H180v160Zm440 0h160v-160H620v160ZM180-180h160v-160H180v160Zm440 0h160v-160H620v160Z\"/>\n",
              "  </svg>\n",
              "    </button>\n",
              "\n",
              "  <style>\n",
              "    .colab-df-container {\n",
              "      display:flex;\n",
              "      gap: 12px;\n",
              "    }\n",
              "\n",
              "    .colab-df-convert {\n",
              "      background-color: #E8F0FE;\n",
              "      border: none;\n",
              "      border-radius: 50%;\n",
              "      cursor: pointer;\n",
              "      display: none;\n",
              "      fill: #1967D2;\n",
              "      height: 32px;\n",
              "      padding: 0 0 0 0;\n",
              "      width: 32px;\n",
              "    }\n",
              "\n",
              "    .colab-df-convert:hover {\n",
              "      background-color: #E2EBFA;\n",
              "      box-shadow: 0px 1px 2px rgba(60, 64, 67, 0.3), 0px 1px 3px 1px rgba(60, 64, 67, 0.15);\n",
              "      fill: #174EA6;\n",
              "    }\n",
              "\n",
              "    .colab-df-buttons div {\n",
              "      margin-bottom: 4px;\n",
              "    }\n",
              "\n",
              "    [theme=dark] .colab-df-convert {\n",
              "      background-color: #3B4455;\n",
              "      fill: #D2E3FC;\n",
              "    }\n",
              "\n",
              "    [theme=dark] .colab-df-convert:hover {\n",
              "      background-color: #434B5C;\n",
              "      box-shadow: 0px 1px 3px 1px rgba(0, 0, 0, 0.15);\n",
              "      filter: drop-shadow(0px 1px 2px rgba(0, 0, 0, 0.3));\n",
              "      fill: #FFFFFF;\n",
              "    }\n",
              "  </style>\n",
              "\n",
              "    <script>\n",
              "      const buttonEl =\n",
              "        document.querySelector('#df-775d4fb1-8371-48d1-a01e-4ceb3aabaff3 button.colab-df-convert');\n",
              "      buttonEl.style.display =\n",
              "        google.colab.kernel.accessAllowed ? 'block' : 'none';\n",
              "\n",
              "      async function convertToInteractive(key) {\n",
              "        const element = document.querySelector('#df-775d4fb1-8371-48d1-a01e-4ceb3aabaff3');\n",
              "        const dataTable =\n",
              "          await google.colab.kernel.invokeFunction('convertToInteractive',\n",
              "                                                    [key], {});\n",
              "        if (!dataTable) return;\n",
              "\n",
              "        const docLinkHtml = 'Like what you see? Visit the ' +\n",
              "          '<a target=\"_blank\" href=https://colab.research.google.com/notebooks/data_table.ipynb>data table notebook</a>'\n",
              "          + ' to learn more about interactive tables.';\n",
              "        element.innerHTML = '';\n",
              "        dataTable['output_type'] = 'display_data';\n",
              "        await google.colab.output.renderOutput(dataTable, element);\n",
              "        const docLink = document.createElement('div');\n",
              "        docLink.innerHTML = docLinkHtml;\n",
              "        element.appendChild(docLink);\n",
              "      }\n",
              "    </script>\n",
              "  </div>\n",
              "\n",
              "\n",
              "<div id=\"df-ba292e43-1de1-44d3-8829-aa5b93f9275b\">\n",
              "  <button class=\"colab-df-quickchart\" onclick=\"quickchart('df-ba292e43-1de1-44d3-8829-aa5b93f9275b')\"\n",
              "            title=\"Suggest charts\"\n",
              "            style=\"display:none;\">\n",
              "\n",
              "<svg xmlns=\"http://www.w3.org/2000/svg\" height=\"24px\"viewBox=\"0 0 24 24\"\n",
              "     width=\"24px\">\n",
              "    <g>\n",
              "        <path d=\"M19 3H5c-1.1 0-2 .9-2 2v14c0 1.1.9 2 2 2h14c1.1 0 2-.9 2-2V5c0-1.1-.9-2-2-2zM9 17H7v-7h2v7zm4 0h-2V7h2v10zm4 0h-2v-4h2v4z\"/>\n",
              "    </g>\n",
              "</svg>\n",
              "  </button>\n",
              "\n",
              "<style>\n",
              "  .colab-df-quickchart {\n",
              "      --bg-color: #E8F0FE;\n",
              "      --fill-color: #1967D2;\n",
              "      --hover-bg-color: #E2EBFA;\n",
              "      --hover-fill-color: #174EA6;\n",
              "      --disabled-fill-color: #AAA;\n",
              "      --disabled-bg-color: #DDD;\n",
              "  }\n",
              "\n",
              "  [theme=dark] .colab-df-quickchart {\n",
              "      --bg-color: #3B4455;\n",
              "      --fill-color: #D2E3FC;\n",
              "      --hover-bg-color: #434B5C;\n",
              "      --hover-fill-color: #FFFFFF;\n",
              "      --disabled-bg-color: #3B4455;\n",
              "      --disabled-fill-color: #666;\n",
              "  }\n",
              "\n",
              "  .colab-df-quickchart {\n",
              "    background-color: var(--bg-color);\n",
              "    border: none;\n",
              "    border-radius: 50%;\n",
              "    cursor: pointer;\n",
              "    display: none;\n",
              "    fill: var(--fill-color);\n",
              "    height: 32px;\n",
              "    padding: 0;\n",
              "    width: 32px;\n",
              "  }\n",
              "\n",
              "  .colab-df-quickchart:hover {\n",
              "    background-color: var(--hover-bg-color);\n",
              "    box-shadow: 0 1px 2px rgba(60, 64, 67, 0.3), 0 1px 3px 1px rgba(60, 64, 67, 0.15);\n",
              "    fill: var(--button-hover-fill-color);\n",
              "  }\n",
              "\n",
              "  .colab-df-quickchart-complete:disabled,\n",
              "  .colab-df-quickchart-complete:disabled:hover {\n",
              "    background-color: var(--disabled-bg-color);\n",
              "    fill: var(--disabled-fill-color);\n",
              "    box-shadow: none;\n",
              "  }\n",
              "\n",
              "  .colab-df-spinner {\n",
              "    border: 2px solid var(--fill-color);\n",
              "    border-color: transparent;\n",
              "    border-bottom-color: var(--fill-color);\n",
              "    animation:\n",
              "      spin 1s steps(1) infinite;\n",
              "  }\n",
              "\n",
              "  @keyframes spin {\n",
              "    0% {\n",
              "      border-color: transparent;\n",
              "      border-bottom-color: var(--fill-color);\n",
              "      border-left-color: var(--fill-color);\n",
              "    }\n",
              "    20% {\n",
              "      border-color: transparent;\n",
              "      border-left-color: var(--fill-color);\n",
              "      border-top-color: var(--fill-color);\n",
              "    }\n",
              "    30% {\n",
              "      border-color: transparent;\n",
              "      border-left-color: var(--fill-color);\n",
              "      border-top-color: var(--fill-color);\n",
              "      border-right-color: var(--fill-color);\n",
              "    }\n",
              "    40% {\n",
              "      border-color: transparent;\n",
              "      border-right-color: var(--fill-color);\n",
              "      border-top-color: var(--fill-color);\n",
              "    }\n",
              "    60% {\n",
              "      border-color: transparent;\n",
              "      border-right-color: var(--fill-color);\n",
              "    }\n",
              "    80% {\n",
              "      border-color: transparent;\n",
              "      border-right-color: var(--fill-color);\n",
              "      border-bottom-color: var(--fill-color);\n",
              "    }\n",
              "    90% {\n",
              "      border-color: transparent;\n",
              "      border-bottom-color: var(--fill-color);\n",
              "    }\n",
              "  }\n",
              "</style>\n",
              "\n",
              "  <script>\n",
              "    async function quickchart(key) {\n",
              "      const quickchartButtonEl =\n",
              "        document.querySelector('#' + key + ' button');\n",
              "      quickchartButtonEl.disabled = true;  // To prevent multiple clicks.\n",
              "      quickchartButtonEl.classList.add('colab-df-spinner');\n",
              "      try {\n",
              "        const charts = await google.colab.kernel.invokeFunction(\n",
              "            'suggestCharts', [key], {});\n",
              "      } catch (error) {\n",
              "        console.error('Error during call to suggestCharts:', error);\n",
              "      }\n",
              "      quickchartButtonEl.classList.remove('colab-df-spinner');\n",
              "      quickchartButtonEl.classList.add('colab-df-quickchart-complete');\n",
              "    }\n",
              "    (() => {\n",
              "      let quickchartButtonEl =\n",
              "        document.querySelector('#df-ba292e43-1de1-44d3-8829-aa5b93f9275b button');\n",
              "      quickchartButtonEl.style.display =\n",
              "        google.colab.kernel.accessAllowed ? 'block' : 'none';\n",
              "    })();\n",
              "  </script>\n",
              "</div>\n",
              "    </div>\n",
              "  </div>\n"
            ]
          },
          "metadata": {},
          "execution_count": 8
        }
      ],
      "source": [
        "df = pd.read_csv('XY_Phonemes.csv', low_memory=False); df"
      ]
    },
    {
      "cell_type": "code",
      "execution_count": null,
      "metadata": {
        "id": "fFp0IV3BJR9_",
        "colab": {
          "base_uri": "https://localhost:8080/"
        },
        "outputId": "6cfb82dd-72b4-4218-9828-d2241a77d2c2"
      },
      "outputs": [
        {
          "output_type": "stream",
          "name": "stdout",
          "text": [
            "<class 'pandas.core.frame.DataFrame'>\n",
            "RangeIndex: 60000 entries, 0 to 59999\n",
            "Columns: 258 entries, x1 to g\n",
            "dtypes: float64(256), int64(1), object(1)\n",
            "memory usage: 118.1+ MB\n"
          ]
        }
      ],
      "source": [
        "df.info()   # observe datatypes and any missing values"
      ]
    },
    {
      "cell_type": "code",
      "execution_count": null,
      "metadata": {
        "id": "UDA4wJqELlOR"
      },
      "outputs": [],
      "source": [
        "# Change string labels to numbers in order of increasing size of the entity (Star < Quasi Star < Galaxy)\n",
        "# df.Class = df.Class.apply(lambda C: -1 if C=='S' else 0 if C=='Q' else 1 if C=='G' else None)"
      ]
    },
    {
      "cell_type": "code",
      "execution_count": null,
      "metadata": {
        "id": "f7OuVizOFsFF"
      },
      "outputs": [],
      "source": [
        "vX = df.query('g!=g').drop('g', axis=1)  # slice a test sample (10K observations)\n",
        "tXY = df.query('g==g')                   # slice training sample\n",
        "tX, tY = tXY.drop('g', axis=1), tXY.g    # split into training I/O (60K-10K = 50K observation)"
      ]
    },
    {
      "cell_type": "code",
      "execution_count": null,
      "metadata": {
        "id": "cF4DKrOxXPfD",
        "colab": {
          "base_uri": "https://localhost:8080/",
          "height": 287
        },
        "outputId": "7f3a2b58-23cd-4443-9b40-bbcd91e073aa"
      },
      "outputs": [
        {
          "output_type": "display_data",
          "data": {
            "text/plain": [
              "<Figure size 2000x300 with 1 Axes>"
            ],
            "image/png": "[encoded data removed]"
          },
          "metadata": {}
        }
      ],
      "source": [
        "aa = tXY[tXY.g=='aa'].set_index('g').iloc[[0],0:255]\n",
        "ao = tXY[tXY.g=='ao'].set_index('g').iloc[[0],0:255]\n",
        "_ = pd.concat([aa,ao]).T.plot(figsize=(20,3), grid=True, title='log-periodogram vs frequency. See ESL textbook, pp.148-149, Figure 5.5');"
      ]
    },
    {
      "cell_type": "code",
      "execution_count": null,
      "metadata": {
        "id": "z4_C58bbHuja",
        "colab": {
          "base_uri": "https://localhost:8080/"
        },
        "outputId": "3ebfffb4-e7fa-4033-87aa-98720d273af2"
      },
      "outputs": [
        {
          "output_type": "stream",
          "name": "stdout",
          "text": [
            "⏳ started. You have 60 sec. Good luck!\n"
          ]
        }
      ],
      "source": [
        "tmr = Timer()"
      ]
    },
    {
      "cell_type": "markdown",
      "metadata": {
        "id": "HtMGXi6vfOxE"
      },
      "source": [
        "<hr color=green size=40>\n",
        "\n",
        "<strong><font color=green size=5>⏳Timed Green Playground (TGP): Your ideas, code, documentation, and timer START HERE!</font></strong>\n",
        "\n",
        "<font color=green>Students: Keep all your definitions, code, documentation in <b>TGP</b>. Modifying any code outside of TGP incurs penalties."
      ]
    },
    {
      "cell_type": "markdown",
      "metadata": {
        "id": "Do4QKjYwff5i"
      },
      "source": [
        "<font color=green><h3><b>$\\alpha$. Build polynomial features</b><h3>"
      ]
    },
    {
      "cell_type": "code",
      "source": [
        "df"
      ],
      "metadata": {
        "colab": {
          "base_uri": "https://localhost:8080/",
          "height": 235
        },
        "id": "_Yyt8MXJ7Mky",
        "outputId": "3c422b7a-abc0-4063-af5e-69bd86371d78"
      },
      "execution_count": null,
      "outputs": [
        {
          "output_type": "execute_result",
          "data": {
            "text/plain": [
              "          x1     x2     x3     x4     x5     x6     x7     x8     x9    x10  \\\n",
              "0      11.14  15.17  19.12  18.78  13.79  18.98  20.09  19.16  17.32  19.76   \n",
              "1      10.84  15.20  19.80  17.82  14.10  17.93  19.54  20.97  16.65  22.41   \n",
              "...      ...    ...    ...    ...    ...    ...    ...    ...    ...    ...   \n",
              "59998  12.15  15.78  21.27  19.61  15.14  21.44  23.24  20.91  17.42  21.22   \n",
              "59999  14.78  14.08  15.70  15.51  15.36  15.52  14.68  15.57  15.48  15.45   \n",
              "\n",
              "       ...   x249   x250   x251   x252   x253   x254   x255   x256  SpkrID  \\\n",
              "0      ...   7.79  10.95  10.05   8.67  10.84   9.50   7.96   9.04       0   \n",
              "1      ...  12.95  13.05  11.95  11.07  10.81   9.71  11.57  12.22       0   \n",
              "...    ...    ...    ...    ...    ...    ...    ...    ...    ...     ...   \n",
              "59998  ...   8.82   8.00   7.44   8.32   6.51   8.33   6.83   7.02     436   \n",
              "59999  ...  12.87  13.26  13.16  12.65  13.90  13.10  11.16  13.53     436   \n",
              "\n",
              "         g  \n",
              "0      NaN  \n",
              "1      NaN  \n",
              "...    ...  \n",
              "59998   ao  \n",
              "59999   sh  \n",
              "\n",
              "[60000 rows x 258 columns]"
            ],
            "text/html": [
              "\n",
              "  <div id=\"df-a115bf32-13e6-4d4b-b49d-f5a57aa55ece\" class=\"colab-df-container\">\n",
              "    <div>\n",
              "<style scoped>\n",
              "    .dataframe tbody tr th:only-of-type {\n",
              "        vertical-align: middle;\n",
              "    }\n",
              "\n",
              "    .dataframe tbody tr th {\n",
              "        vertical-align: top;\n",
              "    }\n",
              "\n",
              "    .dataframe thead th {\n",
              "        text-align: right;\n",
              "    }\n",
              "</style>\n",
              "<table border=\"1\" class=\"dataframe\">\n",
              "  <thead>\n",
              "    <tr style=\"text-align: right;\">\n",
              "      <th></th>\n",
              "      <th>x1</th>\n",
              "      <th>x2</th>\n",
              "      <th>x3</th>\n",
              "      <th>x4</th>\n",
              "      <th>x5</th>\n",
              "      <th>x6</th>\n",
              "      <th>x7</th>\n",
              "      <th>x8</th>\n",
              "      <th>x9</th>\n",
              "      <th>x10</th>\n",
              "      <th>...</th>\n",
              "      <th>x249</th>\n",
              "      <th>x250</th>\n",
              "      <th>x251</th>\n",
              "      <th>x252</th>\n",
              "      <th>x253</th>\n",
              "      <th>x254</th>\n",
              "      <th>x255</th>\n",
              "      <th>x256</th>\n",
              "      <th>SpkrID</th>\n",
              "      <th>g</th>\n",
              "    </tr>\n",
              "  </thead>\n",
              "  <tbody>\n",
              "    <tr>\n",
              "      <th>0</th>\n",
              "      <td>11.14</td>\n",
              "      <td>15.17</td>\n",
              "      <td>19.12</td>\n",
              "      <td>18.78</td>\n",
              "      <td>13.79</td>\n",
              "      <td>18.98</td>\n",
              "      <td>20.09</td>\n",
              "      <td>19.16</td>\n",
              "      <td>17.32</td>\n",
              "      <td>19.76</td>\n",
              "      <td>...</td>\n",
              "      <td>7.79</td>\n",
              "      <td>10.95</td>\n",
              "      <td>10.05</td>\n",
              "      <td>8.67</td>\n",
              "      <td>10.84</td>\n",
              "      <td>9.50</td>\n",
              "      <td>7.96</td>\n",
              "      <td>9.04</td>\n",
              "      <td>0</td>\n",
              "      <td>NaN</td>\n",
              "    </tr>\n",
              "    <tr>\n",
              "      <th>1</th>\n",
              "      <td>10.84</td>\n",
              "      <td>15.20</td>\n",
              "      <td>19.80</td>\n",
              "      <td>17.82</td>\n",
              "      <td>14.10</td>\n",
              "      <td>17.93</td>\n",
              "      <td>19.54</td>\n",
              "      <td>20.97</td>\n",
              "      <td>16.65</td>\n",
              "      <td>22.41</td>\n",
              "      <td>...</td>\n",
              "      <td>12.95</td>\n",
              "      <td>13.05</td>\n",
              "      <td>11.95</td>\n",
              "      <td>11.07</td>\n",
              "      <td>10.81</td>\n",
              "      <td>9.71</td>\n",
              "      <td>11.57</td>\n",
              "      <td>12.22</td>\n",
              "      <td>0</td>\n",
              "      <td>NaN</td>\n",
              "    </tr>\n",
              "    <tr>\n",
              "      <th>...</th>\n",
              "      <td>...</td>\n",
              "      <td>...</td>\n",
              "      <td>...</td>\n",
              "      <td>...</td>\n",
              "      <td>...</td>\n",
              "      <td>...</td>\n",
              "      <td>...</td>\n",
              "      <td>...</td>\n",
              "      <td>...</td>\n",
              "      <td>...</td>\n",
              "      <td>...</td>\n",
              "      <td>...</td>\n",
              "      <td>...</td>\n",
              "      <td>...</td>\n",
              "      <td>...</td>\n",
              "      <td>...</td>\n",
              "      <td>...</td>\n",
              "      <td>...</td>\n",
              "      <td>...</td>\n",
              "      <td>...</td>\n",
              "      <td>...</td>\n",
              "    </tr>\n",
              "    <tr>\n",
              "      <th>59998</th>\n",
              "      <td>12.15</td>\n",
              "      <td>15.78</td>\n",
              "      <td>21.27</td>\n",
              "      <td>19.61</td>\n",
              "      <td>15.14</td>\n",
              "      <td>21.44</td>\n",
              "      <td>23.24</td>\n",
              "      <td>20.91</td>\n",
              "      <td>17.42</td>\n",
              "      <td>21.22</td>\n",
              "      <td>...</td>\n",
              "      <td>8.82</td>\n",
              "      <td>8.00</td>\n",
              "      <td>7.44</td>\n",
              "      <td>8.32</td>\n",
              "      <td>6.51</td>\n",
              "      <td>8.33</td>\n",
              "      <td>6.83</td>\n",
              "      <td>7.02</td>\n",
              "      <td>436</td>\n",
              "      <td>ao</td>\n",
              "    </tr>\n",
              "    <tr>\n",
              "      <th>59999</th>\n",
              "      <td>14.78</td>\n",
              "      <td>14.08</td>\n",
              "      <td>15.70</td>\n",
              "      <td>15.51</td>\n",
              "      <td>15.36</td>\n",
              "      <td>15.52</td>\n",
              "      <td>14.68</td>\n",
              "      <td>15.57</td>\n",
              "      <td>15.48</td>\n",
              "      <td>15.45</td>\n",
              "      <td>...</td>\n",
              "      <td>12.87</td>\n",
              "      <td>13.26</td>\n",
              "      <td>13.16</td>\n",
              "      <td>12.65</td>\n",
              "      <td>13.90</td>\n",
              "      <td>13.10</td>\n",
              "      <td>11.16</td>\n",
              "      <td>13.53</td>\n",
              "      <td>436</td>\n",
              "      <td>sh</td>\n",
              "    </tr>\n",
              "  </tbody>\n",
              "</table>\n",
              "<p>60000 rows × 258 columns</p>\n",
              "</div>\n",
              "    <div class=\"colab-df-buttons\">\n",
              "\n",
              "  <div class=\"colab-df-container\">\n",
              "    <button class=\"colab-df-convert\" onclick=\"convertToInteractive('df-a115bf32-13e6-4d4b-b49d-f5a57aa55ece')\"\n",
              "            title=\"Convert this dataframe to an interactive table.\"\n",
              "            style=\"display:none;\">\n",
              "\n",
              "  <svg xmlns=\"http://www.w3.org/2000/svg\" height=\"24px\" viewBox=\"0 -960 960 960\">\n",
              "    <path d=\"M120-120v-720h720v720H120Zm60-500h600v-160H180v160Zm220 220h160v-160H400v160Zm0 220h160v-160H400v160ZM180-400h160v-160H180v160Zm440 0h160v-160H620v160ZM180-180h160v-160H180v160Zm440 0h160v-160H620v160Z\"/>\n",
              "  </svg>\n",
              "    </button>\n",
              "\n",
              "  <style>\n",
              "    .colab-df-container {\n",
              "      display:flex;\n",
              "      gap: 12px;\n",
              "    }\n",
              "\n",
              "    .colab-df-convert {\n",
              "      background-color: #E8F0FE;\n",
              "      border: none;\n",
              "      border-radius: 50%;\n",
              "      cursor: pointer;\n",
              "      display: none;\n",
              "      fill: #1967D2;\n",
              "      height: 32px;\n",
              "      padding: 0 0 0 0;\n",
              "      width: 32px;\n",
              "    }\n",
              "\n",
              "    .colab-df-convert:hover {\n",
              "      background-color: #E2EBFA;\n",
              "      box-shadow: 0px 1px 2px rgba(60, 64, 67, 0.3), 0px 1px 3px 1px rgba(60, 64, 67, 0.15);\n",
              "      fill: #174EA6;\n",
              "    }\n",
              "\n",
              "    .colab-df-buttons div {\n",
              "      margin-bottom: 4px;\n",
              "    }\n",
              "\n",
              "    [theme=dark] .colab-df-convert {\n",
              "      background-color: #3B4455;\n",
              "      fill: #D2E3FC;\n",
              "    }\n",
              "\n",
              "    [theme=dark] .colab-df-convert:hover {\n",
              "      background-color: #434B5C;\n",
              "      box-shadow: 0px 1px 3px 1px rgba(0, 0, 0, 0.15);\n",
              "      filter: drop-shadow(0px 1px 2px rgba(0, 0, 0, 0.3));\n",
              "      fill: #FFFFFF;\n",
              "    }\n",
              "  </style>\n",
              "\n",
              "    <script>\n",
              "      const buttonEl =\n",
              "        document.querySelector('#df-a115bf32-13e6-4d4b-b49d-f5a57aa55ece button.colab-df-convert');\n",
              "      buttonEl.style.display =\n",
              "        google.colab.kernel.accessAllowed ? 'block' : 'none';\n",
              "\n",
              "      async function convertToInteractive(key) {\n",
              "        const element = document.querySelector('#df-a115bf32-13e6-4d4b-b49d-f5a57aa55ece');\n",
              "        const dataTable =\n",
              "          await google.colab.kernel.invokeFunction('convertToInteractive',\n",
              "                                                    [key], {});\n",
              "        if (!dataTable) return;\n",
              "\n",
              "        const docLinkHtml = 'Like what you see? Visit the ' +\n",
              "          '<a target=\"_blank\" href=https://colab.research.google.com/notebooks/data_table.ipynb>data table notebook</a>'\n",
              "          + ' to learn more about interactive tables.';\n",
              "        element.innerHTML = '';\n",
              "        dataTable['output_type'] = 'display_data';\n",
              "        await google.colab.output.renderOutput(dataTable, element);\n",
              "        const docLink = document.createElement('div');\n",
              "        docLink.innerHTML = docLinkHtml;\n",
              "        element.appendChild(docLink);\n",
              "      }\n",
              "    </script>\n",
              "  </div>\n",
              "\n",
              "\n",
              "<div id=\"df-111e325a-a75a-4509-b6b5-4ee3f05dfdf6\">\n",
              "  <button class=\"colab-df-quickchart\" onclick=\"quickchart('df-111e325a-a75a-4509-b6b5-4ee3f05dfdf6')\"\n",
              "            title=\"Suggest charts\"\n",
              "            style=\"display:none;\">\n",
              "\n",
              "<svg xmlns=\"http://www.w3.org/2000/svg\" height=\"24px\"viewBox=\"0 0 24 24\"\n",
              "     width=\"24px\">\n",
              "    <g>\n",
              "        <path d=\"M19 3H5c-1.1 0-2 .9-2 2v14c0 1.1.9 2 2 2h14c1.1 0 2-.9 2-2V5c0-1.1-.9-2-2-2zM9 17H7v-7h2v7zm4 0h-2V7h2v10zm4 0h-2v-4h2v4z\"/>\n",
              "    </g>\n",
              "</svg>\n",
              "  </button>\n",
              "\n",
              "<style>\n",
              "  .colab-df-quickchart {\n",
              "      --bg-color: #E8F0FE;\n",
              "      --fill-color: #1967D2;\n",
              "      --hover-bg-color: #E2EBFA;\n",
              "      --hover-fill-color: #174EA6;\n",
              "      --disabled-fill-color: #AAA;\n",
              "      --disabled-bg-color: #DDD;\n",
              "  }\n",
              "\n",
              "  [theme=dark] .colab-df-quickchart {\n",
              "      --bg-color: #3B4455;\n",
              "      --fill-color: #D2E3FC;\n",
              "      --hover-bg-color: #434B5C;\n",
              "      --hover-fill-color: #FFFFFF;\n",
              "      --disabled-bg-color: #3B4455;\n",
              "      --disabled-fill-color: #666;\n",
              "  }\n",
              "\n",
              "  .colab-df-quickchart {\n",
              "    background-color: var(--bg-color);\n",
              "    border: none;\n",
              "    border-radius: 50%;\n",
              "    cursor: pointer;\n",
              "    display: none;\n",
              "    fill: var(--fill-color);\n",
              "    height: 32px;\n",
              "    padding: 0;\n",
              "    width: 32px;\n",
              "  }\n",
              "\n",
              "  .colab-df-quickchart:hover {\n",
              "    background-color: var(--hover-bg-color);\n",
              "    box-shadow: 0 1px 2px rgba(60, 64, 67, 0.3), 0 1px 3px 1px rgba(60, 64, 67, 0.15);\n",
              "    fill: var(--button-hover-fill-color);\n",
              "  }\n",
              "\n",
              "  .colab-df-quickchart-complete:disabled,\n",
              "  .colab-df-quickchart-complete:disabled:hover {\n",
              "    background-color: var(--disabled-bg-color);\n",
              "    fill: var(--disabled-fill-color);\n",
              "    box-shadow: none;\n",
              "  }\n",
              "\n",
              "  .colab-df-spinner {\n",
              "    border: 2px solid var(--fill-color);\n",
              "    border-color: transparent;\n",
              "    border-bottom-color: var(--fill-color);\n",
              "    animation:\n",
              "      spin 1s steps(1) infinite;\n",
              "  }\n",
              "\n",
              "  @keyframes spin {\n",
              "    0% {\n",
              "      border-color: transparent;\n",
              "      border-bottom-color: var(--fill-color);\n",
              "      border-left-color: var(--fill-color);\n",
              "    }\n",
              "    20% {\n",
              "      border-color: transparent;\n",
              "      border-left-color: var(--fill-color);\n",
              "      border-top-color: var(--fill-color);\n",
              "    }\n",
              "    30% {\n",
              "      border-color: transparent;\n",
              "      border-left-color: var(--fill-color);\n",
              "      border-top-color: var(--fill-color);\n",
              "      border-right-color: var(--fill-color);\n",
              "    }\n",
              "    40% {\n",
              "      border-color: transparent;\n",
              "      border-right-color: var(--fill-color);\n",
              "      border-top-color: var(--fill-color);\n",
              "    }\n",
              "    60% {\n",
              "      border-color: transparent;\n",
              "      border-right-color: var(--fill-color);\n",
              "    }\n",
              "    80% {\n",
              "      border-color: transparent;\n",
              "      border-right-color: var(--fill-color);\n",
              "      border-bottom-color: var(--fill-color);\n",
              "    }\n",
              "    90% {\n",
              "      border-color: transparent;\n",
              "      border-bottom-color: var(--fill-color);\n",
              "    }\n",
              "  }\n",
              "</style>\n",
              "\n",
              "  <script>\n",
              "    async function quickchart(key) {\n",
              "      const quickchartButtonEl =\n",
              "        document.querySelector('#' + key + ' button');\n",
              "      quickchartButtonEl.disabled = true;  // To prevent multiple clicks.\n",
              "      quickchartButtonEl.classList.add('colab-df-spinner');\n",
              "      try {\n",
              "        const charts = await google.colab.kernel.invokeFunction(\n",
              "            'suggestCharts', [key], {});\n",
              "      } catch (error) {\n",
              "        console.error('Error during call to suggestCharts:', error);\n",
              "      }\n",
              "      quickchartButtonEl.classList.remove('colab-df-spinner');\n",
              "      quickchartButtonEl.classList.add('colab-df-quickchart-complete');\n",
              "    }\n",
              "    (() => {\n",
              "      let quickchartButtonEl =\n",
              "        document.querySelector('#df-111e325a-a75a-4509-b6b5-4ee3f05dfdf6 button');\n",
              "      quickchartButtonEl.style.display =\n",
              "        google.colab.kernel.accessAllowed ? 'block' : 'none';\n",
              "    })();\n",
              "  </script>\n",
              "</div>\n",
              "    </div>\n",
              "  </div>\n"
            ]
          },
          "metadata": {},
          "execution_count": 14
        }
      ]
    },
    {
      "cell_type": "markdown",
      "source": [
        "# Data Preparation"
      ],
      "metadata": {
        "id": "3EjFUJuaFQ8Z"
      }
    },
    {
      "cell_type": "markdown",
      "source": [
        "## Cubic Splines"
      ],
      "metadata": {
        "id": "pcIeHcjPFKGr"
      }
    },
    {
      "cell_type": "markdown",
      "source": [
        "Described in ESL textbook"
      ],
      "metadata": {
        "id": "Fl2dekgwFMSh"
      }
    },
    {
      "cell_type": "code",
      "source": [
        "from patsy import dmatrix\n",
        "def create_splines(data):\n",
        "    transformed_data = pd.DataFrame()\n",
        "    for col in data.select_dtypes(include=np.number).columns:\n",
        "        spline = dmatrix(\"cr(data, df=4) - 1\", {\"data\": data[col]}, return_type='dataframe') # df=4 это примерное значение\n",
        "        transformed_data = pd.concat([transformed_data, spline], axis=1)\n",
        "    return transformed_data\n",
        "\n",
        "tY = df['g'][10000:]\n",
        "df = df.drop(columns=['g', 'SpkrID'])\n",
        "df_spline = create_splines(df)"
      ],
      "metadata": {
        "id": "Kt8Voz4rxEJ6"
      },
      "execution_count": null,
      "outputs": []
    },
    {
      "cell_type": "code",
      "source": [
        "print(f'{df.shape} -> {df_spline.shape}')"
      ],
      "metadata": {
        "id": "TWpsCmLzx_uV",
        "outputId": "62169438-3118-4a02-e3cf-fe9deae5a239",
        "colab": {
          "base_uri": "https://localhost:8080/"
        }
      },
      "execution_count": null,
      "outputs": [
        {
          "output_type": "stream",
          "name": "stdout",
          "text": [
            "(60000, 256) -> (60000, 1024)\n"
          ]
        }
      ]
    },
    {
      "cell_type": "markdown",
      "source": [
        "## Data Splitting"
      ],
      "metadata": {
        "id": "Ub6N3WXjFXdU"
      }
    },
    {
      "cell_type": "code",
      "source": [
        "vX = df_spline[:10000]  # slice a test sample (10K observations)\n",
        "tX, tY = df_spline[10000:], tY    # split into training I/O (60K-10K = 50K observation)"
      ],
      "metadata": {
        "id": "lj8MLMIlymS_"
      },
      "execution_count": null,
      "outputs": []
    },
    {
      "cell_type": "code",
      "source": [
        "from sklearn.model_selection import train_test_split\n",
        "\n",
        "X, y = tX, tY.values\n",
        "# data is split in a stratified fashion\n",
        "X_train, X_test, y_train, y_test = \\\n",
        "        train_test_split(X, y, train_size=48000, random_state=7, stratify=y)"
      ],
      "metadata": {
        "id": "8zoeV1mL8CSl"
      },
      "execution_count": null,
      "outputs": []
    },
    {
      "cell_type": "code",
      "execution_count": null,
      "metadata": {
        "id": "Nviw5N7GLTbn"
      },
      "outputs": [],
      "source": [
        "# %%time\n",
        "# n = 1000   # validation subsample\n",
        "# vX0, vY0 = tX.iloc[:n,:], tY[:n]   # subsample for model selection experiments\n",
        "# tX0, tY0 = tX.iloc[-n:,:], tY[-n:] # subsample for model training\n",
        "\n",
        "# # poly = PolynomialFeatures(degree=2)    # add non-linear features (powers and interactions)\n",
        "# # tX0p = poly.fit_transform(tX0.select_dtypes(include=np.number))  # create object on training set\n",
        "# # vX0p = poly.transform(vX0.select_dtypes(include=np.number))      # apply the same object to test set\n",
        "# # vXp  = poly.transform(vX.select_dtypes(include=np.number))       # apply the same object to test set"
      ]
    },
    {
      "cell_type": "markdown",
      "source": [
        "# Model building"
      ],
      "metadata": {
        "id": "RdbUVSI5FcGu"
      }
    },
    {
      "cell_type": "markdown",
      "source": [
        "## LDA"
      ],
      "metadata": {
        "id": "wdNizgt23mX6"
      }
    },
    {
      "cell_type": "markdown",
      "source": [
        "BEST from what i've got"
      ],
      "metadata": {
        "id": "RgimccDA32eW"
      }
    },
    {
      "cell_type": "code",
      "source": [
        "just_lda = LDA(solver='lsqr').fit(X_train, y_train)\n",
        "print(just_lda.score(X_test, y_test))"
      ],
      "metadata": {
        "colab": {
          "base_uri": "https://localhost:8080/"
        },
        "id": "4w8spakAEL-Y",
        "outputId": "f46ffab5-9110-42a3-8035-9afdb39bd8fc"
      },
      "execution_count": null,
      "outputs": [
        {
          "output_type": "stream",
          "name": "stdout",
          "text": [
            "0.958\n"
          ]
        }
      ]
    },
    {
      "cell_type": "markdown",
      "source": [
        "## Ensemble of models\n"
      ],
      "metadata": {
        "id": "YcilrzqUESOU"
      }
    },
    {
      "cell_type": "markdown",
      "source": [
        "0.9324 on kaggle("
      ],
      "metadata": {
        "id": "_dYt9e2pEzHd"
      }
    },
    {
      "cell_type": "code",
      "execution_count": null,
      "metadata": {
        "id": "HXYrbQ2Rfzvv"
      },
      "outputs": [],
      "source": [
        "# from statistics import mode\n",
        "\n",
        "# # Prep of data\n",
        "# X_train1, X_train2, X_train3 = X_train[:16000], X_train[16000:32000], X_train[-16000:]\n",
        "# y_train1, y_train2, y_train3 = y_train[:16000], y_train[16000:32000], y_train[-16000:]\n",
        "# X_test, y_test = X_test, y_test\n",
        "\n",
        "# # Prep of models\n",
        "# m_lda1 = LDA(solver='lsqr').fit(X_train1, y_train1)\n",
        "# m_lda2 = LDA(solver='lsqr').fit(X_train2, y_train2)\n",
        "# m_lda3 = LDA(solver='lsqr').fit(X_train3, y_train3)\n",
        "\n",
        "# # Separate results\n",
        "# print(m_lda1.score(X_test, y_test))\n",
        "# print(m_lda2.score(X_test, y_test))\n",
        "# print(m_lda3.score(X_test, y_test))\n",
        "\n",
        "# # Prep of results\n",
        "# m_lda1_pred, m_lda2_pred, m_lda3_pred = m_lda1.predict(vX), m_lda2.predict(vX), m_lda3.predict(vX)\n",
        "# final_pred = [mode([a, b, c]) for a, b, c in zip(m_lda1_pred, m_lda2_pred, m_lda3_pred)]\n",
        "\n",
        "# pY = pd.DataFrame(final_pred, index=range(1,len(vX)+1), columns=['g'])  # ensure that labels and observations are in corresponding order\n",
        "# pd.DataFrame(pY.value_counts(sort=False)).rename(columns={0:'predicted output g'}).T\n",
        "# ToCSV(pY, '👂Baseline')"
      ]
    },
    {
      "cell_type": "markdown",
      "source": [
        "## KNN"
      ],
      "metadata": {
        "id": "FOeZ3UN_3f2x"
      }
    },
    {
      "cell_type": "markdown",
      "source": [
        "cool score in collab, but much lower score on kaggle (HUGE OVERFITTING)"
      ],
      "metadata": {
        "id": "uLFm7DG63uh5"
      }
    },
    {
      "cell_type": "code",
      "source": [
        "# from sklearn.neighbors import KNeighborsClassifier as KNN\n",
        "\n",
        "# knn = KNN(n_neighbors=5)  # You can adjust the number of neighbors\n",
        "# print(knn.fit(X_train, y_train).score(X_test, y_test))  # Fit the model and show test accuracy"
      ],
      "metadata": {
        "id": "40OLrQKf1BRG"
      },
      "execution_count": null,
      "outputs": []
    },
    {
      "cell_type": "markdown",
      "source": [
        "## NB"
      ],
      "metadata": {
        "id": "HOskt6yT3nyT"
      }
    },
    {
      "cell_type": "markdown",
      "source": [
        "lower score than LDA, similar to what on kaggle result"
      ],
      "metadata": {
        "id": "kO1OZTI-3qDN"
      }
    },
    {
      "cell_type": "code",
      "source": [
        "# from sklearn.naive_bayes import GaussianNB as NB\n",
        "\n",
        "# nb = NB()\n",
        "# print(nb.fit(X_train, y_train).score(X_test, y_test))  # Fit the model and show test accuracy"
      ],
      "metadata": {
        "id": "Du58bWgj1sSy"
      },
      "execution_count": null,
      "outputs": []
    },
    {
      "cell_type": "markdown",
      "source": [
        "## LR"
      ],
      "metadata": {
        "id": "bEVUPqpX4IlS"
      }
    },
    {
      "cell_type": "markdown",
      "source": [
        "Good score, but time complexity is too high to enter the 60sec limits"
      ],
      "metadata": {
        "id": "JnPnlT-q4ZXh"
      }
    },
    {
      "cell_type": "code",
      "source": [
        "# lr = LR(\n",
        "#     solver='lbfgs', max_iter=100000, C=1e43, tol=1e-100\n",
        "# ).fit(X_train, y_train)\n",
        "\n",
        "# print(lr.score(X_test, y_test))"
      ],
      "metadata": {
        "id": "J7bPu1M-4Hbl"
      },
      "execution_count": null,
      "outputs": []
    },
    {
      "cell_type": "markdown",
      "metadata": {
        "id": "YACmBWMZxViZ"
      },
      "source": [
        "# Generate predictions"
      ]
    },
    {
      "cell_type": "code",
      "execution_count": null,
      "metadata": {
        "id": "R0-jxlb2LiLL",
        "colab": {
          "base_uri": "https://localhost:8080/",
          "height": 118
        },
        "outputId": "e1fba0a3-8043-4b17-e0d9-e7d47ab74e05"
      },
      "outputs": [
        {
          "output_type": "execute_result",
          "data": {
            "text/plain": [
              "g                     aa    ao   dcl    iy    sh\n",
              "predicted output g  1431  2352  1644  2629  1944"
            ],
            "text/html": [
              "\n",
              "  <div id=\"df-ec49afb6-9887-4dc0-a4ab-b9cb4fedcc1a\" class=\"colab-df-container\">\n",
              "    <div>\n",
              "<style scoped>\n",
              "    .dataframe tbody tr th:only-of-type {\n",
              "        vertical-align: middle;\n",
              "    }\n",
              "\n",
              "    .dataframe tbody tr th {\n",
              "        vertical-align: top;\n",
              "    }\n",
              "\n",
              "    .dataframe thead tr th {\n",
              "        text-align: left;\n",
              "    }\n",
              "</style>\n",
              "<table border=\"1\" class=\"dataframe\">\n",
              "  <thead>\n",
              "    <tr>\n",
              "      <th>g</th>\n",
              "      <th>aa</th>\n",
              "      <th>ao</th>\n",
              "      <th>dcl</th>\n",
              "      <th>iy</th>\n",
              "      <th>sh</th>\n",
              "    </tr>\n",
              "  </thead>\n",
              "  <tbody>\n",
              "    <tr>\n",
              "      <th>predicted output g</th>\n",
              "      <td>1431</td>\n",
              "      <td>2352</td>\n",
              "      <td>1644</td>\n",
              "      <td>2629</td>\n",
              "      <td>1944</td>\n",
              "    </tr>\n",
              "  </tbody>\n",
              "</table>\n",
              "</div>\n",
              "    <div class=\"colab-df-buttons\">\n",
              "\n",
              "  <div class=\"colab-df-container\">\n",
              "    <button class=\"colab-df-convert\" onclick=\"convertToInteractive('df-ec49afb6-9887-4dc0-a4ab-b9cb4fedcc1a')\"\n",
              "            title=\"Convert this dataframe to an interactive table.\"\n",
              "            style=\"display:none;\">\n",
              "\n",
              "  <svg xmlns=\"http://www.w3.org/2000/svg\" height=\"24px\" viewBox=\"0 -960 960 960\">\n",
              "    <path d=\"M120-120v-720h720v720H120Zm60-500h600v-160H180v160Zm220 220h160v-160H400v160Zm0 220h160v-160H400v160ZM180-400h160v-160H180v160Zm440 0h160v-160H620v160ZM180-180h160v-160H180v160Zm440 0h160v-160H620v160Z\"/>\n",
              "  </svg>\n",
              "    </button>\n",
              "\n",
              "  <style>\n",
              "    .colab-df-container {\n",
              "      display:flex;\n",
              "      gap: 12px;\n",
              "    }\n",
              "\n",
              "    .colab-df-convert {\n",
              "      background-color: #E8F0FE;\n",
              "      border: none;\n",
              "      border-radius: 50%;\n",
              "      cursor: pointer;\n",
              "      display: none;\n",
              "      fill: #1967D2;\n",
              "      height: 32px;\n",
              "      padding: 0 0 0 0;\n",
              "      width: 32px;\n",
              "    }\n",
              "\n",
              "    .colab-df-convert:hover {\n",
              "      background-color: #E2EBFA;\n",
              "      box-shadow: 0px 1px 2px rgba(60, 64, 67, 0.3), 0px 1px 3px 1px rgba(60, 64, 67, 0.15);\n",
              "      fill: #174EA6;\n",
              "    }\n",
              "\n",
              "    .colab-df-buttons div {\n",
              "      margin-bottom: 4px;\n",
              "    }\n",
              "\n",
              "    [theme=dark] .colab-df-convert {\n",
              "      background-color: #3B4455;\n",
              "      fill: #D2E3FC;\n",
              "    }\n",
              "\n",
              "    [theme=dark] .colab-df-convert:hover {\n",
              "      background-color: #434B5C;\n",
              "      box-shadow: 0px 1px 3px 1px rgba(0, 0, 0, 0.15);\n",
              "      filter: drop-shadow(0px 1px 2px rgba(0, 0, 0, 0.3));\n",
              "      fill: #FFFFFF;\n",
              "    }\n",
              "  </style>\n",
              "\n",
              "    <script>\n",
              "      const buttonEl =\n",
              "        document.querySelector('#df-ec49afb6-9887-4dc0-a4ab-b9cb4fedcc1a button.colab-df-convert');\n",
              "      buttonEl.style.display =\n",
              "        google.colab.kernel.accessAllowed ? 'block' : 'none';\n",
              "\n",
              "      async function convertToInteractive(key) {\n",
              "        const element = document.querySelector('#df-ec49afb6-9887-4dc0-a4ab-b9cb4fedcc1a');\n",
              "        const dataTable =\n",
              "          await google.colab.kernel.invokeFunction('convertToInteractive',\n",
              "                                                    [key], {});\n",
              "        if (!dataTable) return;\n",
              "\n",
              "        const docLinkHtml = 'Like what you see? Visit the ' +\n",
              "          '<a target=\"_blank\" href=https://colab.research.google.com/notebooks/data_table.ipynb>data table notebook</a>'\n",
              "          + ' to learn more about interactive tables.';\n",
              "        element.innerHTML = '';\n",
              "        dataTable['output_type'] = 'display_data';\n",
              "        await google.colab.output.renderOutput(dataTable, element);\n",
              "        const docLink = document.createElement('div');\n",
              "        docLink.innerHTML = docLinkHtml;\n",
              "        element.appendChild(docLink);\n",
              "      }\n",
              "    </script>\n",
              "  </div>\n",
              "\n",
              "    </div>\n",
              "  </div>\n"
            ]
          },
          "metadata": {},
          "execution_count": 25
        }
      ],
      "source": [
        "pY = pd.DataFrame(just_lda.predict(vX), index=range(1,len(vX)+1), columns=['g'])  # ensure that labels and observations are in corresponding order\n",
        "pd.DataFrame(pY.value_counts(sort=False)).rename(columns={0:'predicted output g'}).T\n",
        "ToCSV(pY, '👂Baseline')"
      ]
    },
    {
      "cell_type": "markdown",
      "metadata": {
        "id": "aMVDxm-kEJis"
      },
      "source": [
        "# Documentation"
      ]
    },
    {
      "cell_type": "markdown",
      "metadata": {
        "id": "OtOV3RVcwHAD"
      },
      "source": [
        "<font color=green><h4><b>Task 1. Explain Decisions in Preprocessing Pipeline</b></h4></font>\n",
        "\n",
        "<font color=green>\n",
        "Explain elements of your preprocessing pipeline i.e. feature engineering, subsampling, clustering, dimensionality reduction, etc.</font>\n",
        "\n",
        "<font color=green>\n",
        "\n",
        "1. Why did you choose these elements? (Something in EDA, prior experience,...? Note: EDA is not required)\n",
        "1. How do you evaluate the effectiveness of these elements?\n",
        "1. What else have you tried that worked or didn't?\n",
        "\n",
        "</font>"
      ]
    },
    {
      "cell_type": "markdown",
      "source": [
        "1. Nothing much in preprocessing was done, except cubic splines, described in ESL textbook. Cubic splines played the main role in increasing accuracy. I assume it is due to some shaded non-linear dependencies, which i couldn't capture with polynomialDegree, as it exceeded by RAM.\n",
        "2. I've just printed accuracy for each model and with each change in preprocessing, trying to describe effectiveness like that.\n",
        "3. I've tried PCA to reduce dimensionality and further use cubic splines/polynomial degree, as the size passed the ram test. However accuracy didn't increase. *Moreover i've tried some forecasting on 'SpkrID', as i thought one speaker speeks continuesly, i've calculated avg number of rows for each speaker and got roughly 130rows/speaker. => i could use forecasting for each speaker to understand which phoneme he would say, but i've decided not to use this approach as >450 forecasts are time-consuming and it is relatively hard approach for such task((.* Also i've found code relating to ESL textbook phoneme in github in which difference between 'ao' and 'aa' with cubic splines was described, but i didn't understand how to implement difference between two phonemes into clastering task in order to increase distinctiveness between the two most related phonemes."
      ],
      "metadata": {
        "id": "xij3kjlIGAfp"
      }
    },
    {
      "cell_type": "markdown",
      "metadata": {
        "id": "ppwkSmoEwHAD"
      },
      "source": [
        "<font color=green><h4><b>Task 2. Explain Decisions in Modeling Pipeline</b></h4></font>\n",
        "\n",
        "<font color=green>\n",
        "Explain your modeling approach, i.e. ideas you tried and why you thought they would be helpful.\n",
        "\n",
        "1. How did these decisions guide you in modeling?\n",
        "1. How do you evaluate the effectiveness of these elements?\n",
        "1. What else have you tried that worked or didn't?\n",
        "\n",
        "</font>"
      ]
    },
    {
      "cell_type": "markdown",
      "source": [
        "1. Firstly i've tried different modeling approaches. I've tested all adviced models separately (tryed to find suitable hyperparameters using GridSearchCV), also ensambled models were testes. And eventually, i've achieved the best score using just LDA model, not only by time but also by accuracy.\n",
        "2. Just regular .score was used to evaluate effectiveness\n",
        "3. Logistic Regression, k-nearest neighbors algorithm, quadratic discriminant analysis, Naïve Bayes. Didn't succeed."
      ],
      "metadata": {
        "id": "s_swRKv_J2Nm"
      }
    },
    {
      "cell_type": "markdown",
      "metadata": {
        "id": "pzBsjCvS_kEw"
      },
      "source": [
        "<font color=green><h3><b>$\\zeta$. References</b></h3></font>"
      ]
    },
    {
      "cell_type": "markdown",
      "source": [
        "1. [LDA wikipedia](https://en.wikipedia.org/wiki/Linear_discriminant_analysis)\n",
        "2. [Scikit Learn](https://scikit-learn.org/stable/modules/classes.html#module-sklearn.discriminant_analysis)\n",
        "3. [ESL git code phoneme](https://github.com/empathy87/The-Elements-of-Statistical-Learning-Python-Notebooks/blob/master/examples/Phoneme%20Recognition.ipynb)\n",
        "4. [ISL textbook](https://hastie.su.domains/ISLP/ISLP_website.pdf.download.html)\n",
        "5. [ESL textbook](https://hastie.su.domains/Papers/ESLII.pdf)"
      ],
      "metadata": {
        "id": "jRiJHR97Kzao"
      }
    },
    {
      "cell_type": "markdown",
      "metadata": {
        "id": "DoF2GoB_QGw9"
      },
      "source": [
        "<font size=5>⌛</font> <strong><font color=green size=5>Do not exceed competition's runtime limit! Do not write code outside TGP</font></strong>\n",
        "<hr color=green size=40>"
      ]
    },
    {
      "cell_type": "code",
      "execution_count": null,
      "metadata": {
        "id": "bD1sdgYbNWQA",
        "colab": {
          "base_uri": "https://localhost:8080/"
        },
        "outputId": "5c09197f-7f41-4250-a790-be9c3b4fd0ef"
      },
      "outputs": [
        {
          "output_type": "stream",
          "name": "stdout",
          "text": [
            "Runtime is 59 sec\n"
          ]
        }
      ],
      "source": [
        "tmr.ShowTime()    # measure Colab's runtime. Do not remove. Keep as the last cell in your notebook."
      ]
    },
    {
      "cell_type": "markdown",
      "metadata": {
        "id": "oUStTaN4uo_Z"
      },
      "source": [
        "## 💡**Starter Ideas**"
      ]
    },
    {
      "cell_type": "markdown",
      "metadata": {
        "id": "q4QO-u3t8xAO"
      },
      "source": [
        "1. Tune model hyperparameters\n",
        "1. Try smarter sampling from the training set to avoid using all observations (due to time constraint) and, instead, develop more features\n",
        "1. Try feature restriction, selection, and regularization (see ESL pp.140-141)\n",
        "1. Do a thorough EDA: look for feature augmentations that result in linear decision boundaries between pairs of classes.\n",
        "1. Try encoding and/or incorporating speaker ID. For example, you could scale/transform each speaker's observations separately.\n",
        "1. Carefully read the example in [ESL textbook, p.149](https://hastie.su.domains/ElemStatLearn/printings/ESLII_print12.pdf#page=168), check seminar Colab and lecture slides\n",
        "1. Check difference in distribution between test and train data. You might consider [group k-fold](https://scikit-learn.org/stable/modules/classes.html#module-sklearn.model_selection) for testing locally or your model will memorize user-phoneme releation, instead of phoneme attributes and class.\n",
        "1. Learn the domain to develop better features. See [\"Penalized discriminant analysis\"](https://scholar.google.com/scholar?hl=en&as_sdt=0%2C48&q=Penalized+Discriminant+Analysis&btnG=)\n",
        "1. Look for training outliers that can affect your model's test performance.\n",
        "  1. Essentially, you need to find and exclude training [influential points](https://en.wikipedia.org/wiki/Influential_observation), but training outliers might be influential\n",
        "  1. Brute force with [LOOCV](https://en.wikipedia.org/wiki/Cross-validation_(statistics)#Leave-one-out_cross-validation) is slow, but robust. You might find methods to find each training point's contribution to the prediction and remove rare extreme contributors (since they may not be in the test set)\n",
        "  1. You can find outliers; then evaluate their effect on model's performance\n",
        "    1. You can evaluate 1D and 2D histograms to find outliers and\n",
        "    1. You can cluster observations and find outliers that don't fit the clusters (DBSCAN may be helpful)\n",
        "    1. You can compress high dimensional space to 1D (with PCA, tSNE, UMAP) and then find outliers with a histogram\n",
        " 1. Additional info:\n",
        "    1. Harmonics: [wiki](https://en.wikipedia.org/wiki/Harmonic), [sinusoidal regression](https://www.youtube.com/results?search_query=regression+sinusoidal)\n",
        "    1. Discrete Fourier Transofrm (DFT): [wiki](https://en.wikipedia.org/wiki/Discrete_Fourier_transform), [Steve Brunton @UW](https://www.youtube.com/watch?v=nl9TZanwbBk), [YouTube search](https://www.youtube.com/results?search_query=Discrete+Fourier+transform)\n",
        "    1. Spectral density estimation [(wiki)](https://en.wikipedia.org/wiki/Spectral_density_estimation), [YouTube search](https://www.youtube.com/results?search_query=spectral+density+estimation)\n",
        "\n",
        "\n"
      ]
    },
    {
      "cell_type": "code",
      "execution_count": null,
      "metadata": {
        "id": "tLlIseR-EcrE"
      },
      "outputs": [],
      "source": []
    }
  ],
  "metadata": {
    "colab": {
      "provenance": [],
      "collapsed_sections": [
        "YcilrzqUESOU",
        "FOeZ3UN_3f2x",
        "HOskt6yT3nyT"
      ],
      "toc_visible": true
    },
    "kernelspec": {
      "display_name": "Python 3",
      "name": "python3"
    },
    "language_info": {
      "name": "python"
    }
  },
  "nbformat": 4,
  "nbformat_minor": 0
}